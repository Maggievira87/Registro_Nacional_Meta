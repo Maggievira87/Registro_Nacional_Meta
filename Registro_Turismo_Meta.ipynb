{
  "nbformat": 4,
  "nbformat_minor": 0,
  "metadata": {
    "colab": {
      "provenance": [],
      "authorship_tag": "ABX9TyPbCqVd+VD8f+XjA8FGaKeP",
      "include_colab_link": true
    },
    "kernelspec": {
      "name": "python3",
      "display_name": "Python 3"
    },
    "language_info": {
      "name": "python"
    }
  },
  "cells": [
    {
      "cell_type": "markdown",
      "metadata": {
        "id": "view-in-github",
        "colab_type": "text"
      },
      "source": [
        "<a href=\"https://colab.research.google.com/github/Maggievira87/Registro_Nacional_Meta/blob/main/Registro_Turismo_Meta.ipynb\" target=\"_parent\"><img src=\"https://colab.research.google.com/assets/colab-badge.svg\" alt=\"Open In Colab\"/></a>"
      ]
    },
    {
      "cell_type": "code",
      "execution_count": 1,
      "metadata": {
        "id": "cgd-tJ54l1-x"
      },
      "outputs": [],
      "source": [
        "import pandas as pd\n",
        "import matplotlib.pyplot as plt"
      ]
    },
    {
      "cell_type": "code",
      "source": [
        "url ='https://raw.githubusercontent.com/Maggievira87/Registro_Nacional_Meta/main/Vista_Registro_Nacional_de_Turismo_Meta_20240712.csv'"
      ],
      "metadata": {
        "id": "qokMN5EYnQS9"
      },
      "execution_count": 2,
      "outputs": []
    },
    {
      "cell_type": "markdown",
      "source": [
        "** REGISTRO NACIONAL DE EL META 2024**\n",
        "\n",
        "**PRESENTADO POR:**\n",
        "\n",
        "Margareth Villanueva Ramirez\n",
        "\n",
        "**A MODO EDUCATIVO **\n",
        "\n",
        "**OBJETIVO DEL PROYECTO**\n",
        "\n",
        "La Alcandía del Meta quiere evaluar cual fue municipio que tuvo el más alto índice de reserva en alojamientos en los primeros meses del año del 2024 y como contribuyo esto a su economía.\n",
        "\n",
        "El departamento del Meta esta dividido por 29 municipios los cuales de distribuyen por 6  Subregiones de planificación y gestión1: Alto Ariari, Ariari, Bajo Ariari, Capital-Cordillera, La Macarena y Río Meta, el sector económico del Departamento del Meta se basa principalmente en la agricultura, la ganadería, el petróleo, el comercio y la industria, en el sector del turismo el logro más representativos del sector está la promoción del Meta como la ruta natural de Colombia, su gastronomía, su cultura y escenarios turísticos; viéndose reflejado en el incremento del 20% de turistas con 6.715.239 visitantes, de los cuales 5.600 fueron extranjeros, generando 25.000 empleos directos e indirectos. De igual manera, se destacó la participación del instituto en varios eventos y vitrinas como Anato, ferias ganaderas, festivales nacionales y destinos internacionales.\n",
        "\n",
        "Uno de los componentes importantes del sector turismo es la infraestructura. Actualmente se encuentra en ejecución y construcción el parque de la Cultura Llanera Las Malocas con una inversión de $57.000 millones que se convertirá en el ancla para quien visite el departamento, y el parque central del municipio de San Carlos de Guaroa por un valor de 4.160 millones y un avance del 26,7%.\n",
        "En el estudio visualizamos que los registros entregados por los hoteles en cuanto a reservas, pudimos visualizar que el municipio de El Calvario municipio ubicado al norte del departamento del Meta, en el centro de Colombia, no cuenta con registros porque es una región azotada por los temblores en el municipio y es por esto que no cuenta con infraestructura para el servicio de alojamiento y poder prestar un servicio acorde a los visitantes a este municipio, es por esto que el informe se basa en los 28 municipios que nos aportaron el estudio para la investigación.\n",
        "\n",
        "\n",
        "\n",
        "\n",
        "\n",
        "\n"
      ],
      "metadata": {
        "id": "0VJw0KcNFIAi"
      }
    },
    {
      "cell_type": "code",
      "source": [
        "turismo_df = pd.read_csv(url,sep=\";\")"
      ],
      "metadata": {
        "id": "o5bh13Dhtwxb"
      },
      "execution_count": 3,
      "outputs": []
    },
    {
      "cell_type": "code",
      "source": [
        "turismo_df.head()"
      ],
      "metadata": {
        "colab": {
          "base_uri": "https://localhost:8080/",
          "height": 399
        },
        "id": "KpOASRyIuSv0",
        "outputId": "b995925e-3656-4078-fd00-2c94445b0631"
      },
      "execution_count": 4,
      "outputs": [
        {
          "output_type": "execute_result",
          "data": {
            "text/plain": [
              "    ANO  MES  CODIGO_RNT  COD_MUN  COD_DPTO ESTADO_RNT  \\\n",
              "0  2024    4         789    50001        50     ACTIVO   \n",
              "1  2024    3        1008    50001        50     ACTIVO   \n",
              "2  2024    4        4525    50001        50     ACTIVO   \n",
              "3  2024    3        5345    50001        50     ACTIVO   \n",
              "4  2024    3        5377    50001        50     ACTIVO   \n",
              "\n",
              "        RAZON_SOCIAL_ESTABLECIMIENTO DEPARTAMENTO      MUNICIPIO  \\\n",
              "0                         PROTURISMO         META  VILLAVICENCIO   \n",
              "1          HOTEL VILLAVICENCIO PLAZA         META  VILLAVICENCIO   \n",
              "2                     HOTEL DON LOLO         META  VILLAVICENCIO   \n",
              "3  HOTEL EL ALCARAVAN DE COLSUBSIDIO         META  VILLAVICENCIO   \n",
              "4                   HOTEL NAPOLITANO         META  VILLAVICENCIO   \n",
              "\n",
              "                                   CATEGORIA                   SUB_CATEGORIA  \\\n",
              "0                         AGENCIAS DE VIAJES  AGENCIA DE VIAJES Y DE TURISMO   \n",
              "1  ESTABLECIMIENTOS DE ALOJAMIENTO TURÍSTICO                           HOTEL   \n",
              "2  ESTABLECIMIENTOS DE ALOJAMIENTO TURÍSTICO                           HOTEL   \n",
              "3  ESTABLECIMIENTOS DE ALOJAMIENTO TURÍSTICO                           HOTEL   \n",
              "4  ESTABLECIMIENTOS DE ALOJAMIENTO TURÍSTICO                           HOTEL   \n",
              "\n",
              "   NUM_EMP  HABITACIONES  CAMAS  \n",
              "0        3             0      0  \n",
              "1        0            65     77  \n",
              "2       24            57    138  \n",
              "3        0            63    252  \n",
              "4        0            65    182  "
            ],
            "text/html": [
              "\n",
              "  <div id=\"df-c274c12b-da9f-4e28-87ee-b7f82713f70e\" class=\"colab-df-container\">\n",
              "    <div>\n",
              "<style scoped>\n",
              "    .dataframe tbody tr th:only-of-type {\n",
              "        vertical-align: middle;\n",
              "    }\n",
              "\n",
              "    .dataframe tbody tr th {\n",
              "        vertical-align: top;\n",
              "    }\n",
              "\n",
              "    .dataframe thead th {\n",
              "        text-align: right;\n",
              "    }\n",
              "</style>\n",
              "<table border=\"1\" class=\"dataframe\">\n",
              "  <thead>\n",
              "    <tr style=\"text-align: right;\">\n",
              "      <th></th>\n",
              "      <th>ANO</th>\n",
              "      <th>MES</th>\n",
              "      <th>CODIGO_RNT</th>\n",
              "      <th>COD_MUN</th>\n",
              "      <th>COD_DPTO</th>\n",
              "      <th>ESTADO_RNT</th>\n",
              "      <th>RAZON_SOCIAL_ESTABLECIMIENTO</th>\n",
              "      <th>DEPARTAMENTO</th>\n",
              "      <th>MUNICIPIO</th>\n",
              "      <th>CATEGORIA</th>\n",
              "      <th>SUB_CATEGORIA</th>\n",
              "      <th>NUM_EMP</th>\n",
              "      <th>HABITACIONES</th>\n",
              "      <th>CAMAS</th>\n",
              "    </tr>\n",
              "  </thead>\n",
              "  <tbody>\n",
              "    <tr>\n",
              "      <th>0</th>\n",
              "      <td>2024</td>\n",
              "      <td>4</td>\n",
              "      <td>789</td>\n",
              "      <td>50001</td>\n",
              "      <td>50</td>\n",
              "      <td>ACTIVO</td>\n",
              "      <td>PROTURISMO</td>\n",
              "      <td>META</td>\n",
              "      <td>VILLAVICENCIO</td>\n",
              "      <td>AGENCIAS DE VIAJES</td>\n",
              "      <td>AGENCIA DE VIAJES Y DE TURISMO</td>\n",
              "      <td>3</td>\n",
              "      <td>0</td>\n",
              "      <td>0</td>\n",
              "    </tr>\n",
              "    <tr>\n",
              "      <th>1</th>\n",
              "      <td>2024</td>\n",
              "      <td>3</td>\n",
              "      <td>1008</td>\n",
              "      <td>50001</td>\n",
              "      <td>50</td>\n",
              "      <td>ACTIVO</td>\n",
              "      <td>HOTEL VILLAVICENCIO PLAZA</td>\n",
              "      <td>META</td>\n",
              "      <td>VILLAVICENCIO</td>\n",
              "      <td>ESTABLECIMIENTOS DE ALOJAMIENTO TURÍSTICO</td>\n",
              "      <td>HOTEL</td>\n",
              "      <td>0</td>\n",
              "      <td>65</td>\n",
              "      <td>77</td>\n",
              "    </tr>\n",
              "    <tr>\n",
              "      <th>2</th>\n",
              "      <td>2024</td>\n",
              "      <td>4</td>\n",
              "      <td>4525</td>\n",
              "      <td>50001</td>\n",
              "      <td>50</td>\n",
              "      <td>ACTIVO</td>\n",
              "      <td>HOTEL DON LOLO</td>\n",
              "      <td>META</td>\n",
              "      <td>VILLAVICENCIO</td>\n",
              "      <td>ESTABLECIMIENTOS DE ALOJAMIENTO TURÍSTICO</td>\n",
              "      <td>HOTEL</td>\n",
              "      <td>24</td>\n",
              "      <td>57</td>\n",
              "      <td>138</td>\n",
              "    </tr>\n",
              "    <tr>\n",
              "      <th>3</th>\n",
              "      <td>2024</td>\n",
              "      <td>3</td>\n",
              "      <td>5345</td>\n",
              "      <td>50001</td>\n",
              "      <td>50</td>\n",
              "      <td>ACTIVO</td>\n",
              "      <td>HOTEL EL ALCARAVAN DE COLSUBSIDIO</td>\n",
              "      <td>META</td>\n",
              "      <td>VILLAVICENCIO</td>\n",
              "      <td>ESTABLECIMIENTOS DE ALOJAMIENTO TURÍSTICO</td>\n",
              "      <td>HOTEL</td>\n",
              "      <td>0</td>\n",
              "      <td>63</td>\n",
              "      <td>252</td>\n",
              "    </tr>\n",
              "    <tr>\n",
              "      <th>4</th>\n",
              "      <td>2024</td>\n",
              "      <td>3</td>\n",
              "      <td>5377</td>\n",
              "      <td>50001</td>\n",
              "      <td>50</td>\n",
              "      <td>ACTIVO</td>\n",
              "      <td>HOTEL NAPOLITANO</td>\n",
              "      <td>META</td>\n",
              "      <td>VILLAVICENCIO</td>\n",
              "      <td>ESTABLECIMIENTOS DE ALOJAMIENTO TURÍSTICO</td>\n",
              "      <td>HOTEL</td>\n",
              "      <td>0</td>\n",
              "      <td>65</td>\n",
              "      <td>182</td>\n",
              "    </tr>\n",
              "  </tbody>\n",
              "</table>\n",
              "</div>\n",
              "    <div class=\"colab-df-buttons\">\n",
              "\n",
              "  <div class=\"colab-df-container\">\n",
              "    <button class=\"colab-df-convert\" onclick=\"convertToInteractive('df-c274c12b-da9f-4e28-87ee-b7f82713f70e')\"\n",
              "            title=\"Convert this dataframe to an interactive table.\"\n",
              "            style=\"display:none;\">\n",
              "\n",
              "  <svg xmlns=\"http://www.w3.org/2000/svg\" height=\"24px\" viewBox=\"0 -960 960 960\">\n",
              "    <path d=\"M120-120v-720h720v720H120Zm60-500h600v-160H180v160Zm220 220h160v-160H400v160Zm0 220h160v-160H400v160ZM180-400h160v-160H180v160Zm440 0h160v-160H620v160ZM180-180h160v-160H180v160Zm440 0h160v-160H620v160Z\"/>\n",
              "  </svg>\n",
              "    </button>\n",
              "\n",
              "  <style>\n",
              "    .colab-df-container {\n",
              "      display:flex;\n",
              "      gap: 12px;\n",
              "    }\n",
              "\n",
              "    .colab-df-convert {\n",
              "      background-color: #E8F0FE;\n",
              "      border: none;\n",
              "      border-radius: 50%;\n",
              "      cursor: pointer;\n",
              "      display: none;\n",
              "      fill: #1967D2;\n",
              "      height: 32px;\n",
              "      padding: 0 0 0 0;\n",
              "      width: 32px;\n",
              "    }\n",
              "\n",
              "    .colab-df-convert:hover {\n",
              "      background-color: #E2EBFA;\n",
              "      box-shadow: 0px 1px 2px rgba(60, 64, 67, 0.3), 0px 1px 3px 1px rgba(60, 64, 67, 0.15);\n",
              "      fill: #174EA6;\n",
              "    }\n",
              "\n",
              "    .colab-df-buttons div {\n",
              "      margin-bottom: 4px;\n",
              "    }\n",
              "\n",
              "    [theme=dark] .colab-df-convert {\n",
              "      background-color: #3B4455;\n",
              "      fill: #D2E3FC;\n",
              "    }\n",
              "\n",
              "    [theme=dark] .colab-df-convert:hover {\n",
              "      background-color: #434B5C;\n",
              "      box-shadow: 0px 1px 3px 1px rgba(0, 0, 0, 0.15);\n",
              "      filter: drop-shadow(0px 1px 2px rgba(0, 0, 0, 0.3));\n",
              "      fill: #FFFFFF;\n",
              "    }\n",
              "  </style>\n",
              "\n",
              "    <script>\n",
              "      const buttonEl =\n",
              "        document.querySelector('#df-c274c12b-da9f-4e28-87ee-b7f82713f70e button.colab-df-convert');\n",
              "      buttonEl.style.display =\n",
              "        google.colab.kernel.accessAllowed ? 'block' : 'none';\n",
              "\n",
              "      async function convertToInteractive(key) {\n",
              "        const element = document.querySelector('#df-c274c12b-da9f-4e28-87ee-b7f82713f70e');\n",
              "        const dataTable =\n",
              "          await google.colab.kernel.invokeFunction('convertToInteractive',\n",
              "                                                    [key], {});\n",
              "        if (!dataTable) return;\n",
              "\n",
              "        const docLinkHtml = 'Like what you see? Visit the ' +\n",
              "          '<a target=\"_blank\" href=https://colab.research.google.com/notebooks/data_table.ipynb>data table notebook</a>'\n",
              "          + ' to learn more about interactive tables.';\n",
              "        element.innerHTML = '';\n",
              "        dataTable['output_type'] = 'display_data';\n",
              "        await google.colab.output.renderOutput(dataTable, element);\n",
              "        const docLink = document.createElement('div');\n",
              "        docLink.innerHTML = docLinkHtml;\n",
              "        element.appendChild(docLink);\n",
              "      }\n",
              "    </script>\n",
              "  </div>\n",
              "\n",
              "\n",
              "<div id=\"df-9a33bdeb-f8f1-4722-863c-1a56e1a44f3d\">\n",
              "  <button class=\"colab-df-quickchart\" onclick=\"quickchart('df-9a33bdeb-f8f1-4722-863c-1a56e1a44f3d')\"\n",
              "            title=\"Suggest charts\"\n",
              "            style=\"display:none;\">\n",
              "\n",
              "<svg xmlns=\"http://www.w3.org/2000/svg\" height=\"24px\"viewBox=\"0 0 24 24\"\n",
              "     width=\"24px\">\n",
              "    <g>\n",
              "        <path d=\"M19 3H5c-1.1 0-2 .9-2 2v14c0 1.1.9 2 2 2h14c1.1 0 2-.9 2-2V5c0-1.1-.9-2-2-2zM9 17H7v-7h2v7zm4 0h-2V7h2v10zm4 0h-2v-4h2v4z\"/>\n",
              "    </g>\n",
              "</svg>\n",
              "  </button>\n",
              "\n",
              "<style>\n",
              "  .colab-df-quickchart {\n",
              "      --bg-color: #E8F0FE;\n",
              "      --fill-color: #1967D2;\n",
              "      --hover-bg-color: #E2EBFA;\n",
              "      --hover-fill-color: #174EA6;\n",
              "      --disabled-fill-color: #AAA;\n",
              "      --disabled-bg-color: #DDD;\n",
              "  }\n",
              "\n",
              "  [theme=dark] .colab-df-quickchart {\n",
              "      --bg-color: #3B4455;\n",
              "      --fill-color: #D2E3FC;\n",
              "      --hover-bg-color: #434B5C;\n",
              "      --hover-fill-color: #FFFFFF;\n",
              "      --disabled-bg-color: #3B4455;\n",
              "      --disabled-fill-color: #666;\n",
              "  }\n",
              "\n",
              "  .colab-df-quickchart {\n",
              "    background-color: var(--bg-color);\n",
              "    border: none;\n",
              "    border-radius: 50%;\n",
              "    cursor: pointer;\n",
              "    display: none;\n",
              "    fill: var(--fill-color);\n",
              "    height: 32px;\n",
              "    padding: 0;\n",
              "    width: 32px;\n",
              "  }\n",
              "\n",
              "  .colab-df-quickchart:hover {\n",
              "    background-color: var(--hover-bg-color);\n",
              "    box-shadow: 0 1px 2px rgba(60, 64, 67, 0.3), 0 1px 3px 1px rgba(60, 64, 67, 0.15);\n",
              "    fill: var(--button-hover-fill-color);\n",
              "  }\n",
              "\n",
              "  .colab-df-quickchart-complete:disabled,\n",
              "  .colab-df-quickchart-complete:disabled:hover {\n",
              "    background-color: var(--disabled-bg-color);\n",
              "    fill: var(--disabled-fill-color);\n",
              "    box-shadow: none;\n",
              "  }\n",
              "\n",
              "  .colab-df-spinner {\n",
              "    border: 2px solid var(--fill-color);\n",
              "    border-color: transparent;\n",
              "    border-bottom-color: var(--fill-color);\n",
              "    animation:\n",
              "      spin 1s steps(1) infinite;\n",
              "  }\n",
              "\n",
              "  @keyframes spin {\n",
              "    0% {\n",
              "      border-color: transparent;\n",
              "      border-bottom-color: var(--fill-color);\n",
              "      border-left-color: var(--fill-color);\n",
              "    }\n",
              "    20% {\n",
              "      border-color: transparent;\n",
              "      border-left-color: var(--fill-color);\n",
              "      border-top-color: var(--fill-color);\n",
              "    }\n",
              "    30% {\n",
              "      border-color: transparent;\n",
              "      border-left-color: var(--fill-color);\n",
              "      border-top-color: var(--fill-color);\n",
              "      border-right-color: var(--fill-color);\n",
              "    }\n",
              "    40% {\n",
              "      border-color: transparent;\n",
              "      border-right-color: var(--fill-color);\n",
              "      border-top-color: var(--fill-color);\n",
              "    }\n",
              "    60% {\n",
              "      border-color: transparent;\n",
              "      border-right-color: var(--fill-color);\n",
              "    }\n",
              "    80% {\n",
              "      border-color: transparent;\n",
              "      border-right-color: var(--fill-color);\n",
              "      border-bottom-color: var(--fill-color);\n",
              "    }\n",
              "    90% {\n",
              "      border-color: transparent;\n",
              "      border-bottom-color: var(--fill-color);\n",
              "    }\n",
              "  }\n",
              "</style>\n",
              "\n",
              "  <script>\n",
              "    async function quickchart(key) {\n",
              "      const quickchartButtonEl =\n",
              "        document.querySelector('#' + key + ' button');\n",
              "      quickchartButtonEl.disabled = true;  // To prevent multiple clicks.\n",
              "      quickchartButtonEl.classList.add('colab-df-spinner');\n",
              "      try {\n",
              "        const charts = await google.colab.kernel.invokeFunction(\n",
              "            'suggestCharts', [key], {});\n",
              "      } catch (error) {\n",
              "        console.error('Error during call to suggestCharts:', error);\n",
              "      }\n",
              "      quickchartButtonEl.classList.remove('colab-df-spinner');\n",
              "      quickchartButtonEl.classList.add('colab-df-quickchart-complete');\n",
              "    }\n",
              "    (() => {\n",
              "      let quickchartButtonEl =\n",
              "        document.querySelector('#df-9a33bdeb-f8f1-4722-863c-1a56e1a44f3d button');\n",
              "      quickchartButtonEl.style.display =\n",
              "        google.colab.kernel.accessAllowed ? 'block' : 'none';\n",
              "    })();\n",
              "  </script>\n",
              "</div>\n",
              "\n",
              "    </div>\n",
              "  </div>\n"
            ],
            "application/vnd.google.colaboratory.intrinsic+json": {
              "type": "dataframe",
              "variable_name": "turismo_df",
              "summary": "{\n  \"name\": \"turismo_df\",\n  \"rows\": 2404,\n  \"fields\": [\n    {\n      \"column\": \"ANO\",\n      \"properties\": {\n        \"dtype\": \"number\",\n        \"std\": 0,\n        \"min\": 2024,\n        \"max\": 2024,\n        \"num_unique_values\": 1,\n        \"samples\": [\n          2024\n        ],\n        \"semantic_type\": \"\",\n        \"description\": \"\"\n      }\n    },\n    {\n      \"column\": \"MES\",\n      \"properties\": {\n        \"dtype\": \"number\",\n        \"std\": 1,\n        \"min\": 1,\n        \"max\": 5,\n        \"num_unique_values\": 5,\n        \"samples\": [\n          3\n        ],\n        \"semantic_type\": \"\",\n        \"description\": \"\"\n      }\n    },\n    {\n      \"column\": \"CODIGO_RNT\",\n      \"properties\": {\n        \"dtype\": \"number\",\n        \"std\": 60209,\n        \"min\": 789,\n        \"max\": 209643,\n        \"num_unique_values\": 2404,\n        \"samples\": [\n          36391\n        ],\n        \"semantic_type\": \"\",\n        \"description\": \"\"\n      }\n    },\n    {\n      \"column\": \"COD_MUN\",\n      \"properties\": {\n        \"dtype\": \"number\",\n        \"std\": 249,\n        \"min\": 50001,\n        \"max\": 50711,\n        \"num_unique_values\": 28,\n        \"samples\": [\n          50110\n        ],\n        \"semantic_type\": \"\",\n        \"description\": \"\"\n      }\n    },\n    {\n      \"column\": \"COD_DPTO\",\n      \"properties\": {\n        \"dtype\": \"number\",\n        \"std\": 0,\n        \"min\": 50,\n        \"max\": 50,\n        \"num_unique_values\": 1,\n        \"samples\": [\n          50\n        ],\n        \"semantic_type\": \"\",\n        \"description\": \"\"\n      }\n    },\n    {\n      \"column\": \"ESTADO_RNT\",\n      \"properties\": {\n        \"dtype\": \"category\",\n        \"num_unique_values\": 1,\n        \"samples\": [\n          \"ACTIVO\"\n        ],\n        \"semantic_type\": \"\",\n        \"description\": \"\"\n      }\n    },\n    {\n      \"column\": \"RAZON_SOCIAL_ESTABLECIMIENTO\",\n      \"properties\": {\n        \"dtype\": \"string\",\n        \"num_unique_values\": 2310,\n        \"samples\": [\n          \"MONTEALTO CAMPESTRE\"\n        ],\n        \"semantic_type\": \"\",\n        \"description\": \"\"\n      }\n    },\n    {\n      \"column\": \"DEPARTAMENTO\",\n      \"properties\": {\n        \"dtype\": \"category\",\n        \"num_unique_values\": 1,\n        \"samples\": [\n          \"META\"\n        ],\n        \"semantic_type\": \"\",\n        \"description\": \"\"\n      }\n    },\n    {\n      \"column\": \"MUNICIPIO\",\n      \"properties\": {\n        \"dtype\": \"category\",\n        \"num_unique_values\": 28,\n        \"samples\": [\n          \"BARRANCA DE UPIA\"\n        ],\n        \"semantic_type\": \"\",\n        \"description\": \"\"\n      }\n    },\n    {\n      \"column\": \"CATEGORIA\",\n      \"properties\": {\n        \"dtype\": \"category\",\n        \"num_unique_values\": 15,\n        \"samples\": [\n          \"ESTABLECIMIENTOS DE GASTRONOM\\u00cdA\"\n        ],\n        \"semantic_type\": \"\",\n        \"description\": \"\"\n      }\n    },\n    {\n      \"column\": \"SUB_CATEGORIA\",\n      \"properties\": {\n        \"dtype\": \"category\",\n        \"num_unique_values\": 30,\n        \"samples\": [\n          \"ALBERGUE\"\n        ],\n        \"semantic_type\": \"\",\n        \"description\": \"\"\n      }\n    },\n    {\n      \"column\": \"NUM_EMP\",\n      \"properties\": {\n        \"dtype\": \"number\",\n        \"std\": 611,\n        \"min\": 0,\n        \"max\": 30000,\n        \"num_unique_values\": 29,\n        \"samples\": [\n          17\n        ],\n        \"semantic_type\": \"\",\n        \"description\": \"\"\n      }\n    },\n    {\n      \"column\": \"HABITACIONES\",\n      \"properties\": {\n        \"dtype\": \"number\",\n        \"std\": 12,\n        \"min\": 0,\n        \"max\": 300,\n        \"num_unique_values\": 68,\n        \"samples\": [\n          48\n        ],\n        \"semantic_type\": \"\",\n        \"description\": \"\"\n      }\n    },\n    {\n      \"column\": \"CAMAS\",\n      \"properties\": {\n        \"dtype\": \"number\",\n        \"std\": 20,\n        \"min\": 0,\n        \"max\": 277,\n        \"num_unique_values\": 101,\n        \"samples\": [\n          41\n        ],\n        \"semantic_type\": \"\",\n        \"description\": \"\"\n      }\n    }\n  ]\n}"
            }
          },
          "metadata": {},
          "execution_count": 4
        }
      ]
    },
    {
      "cell_type": "code",
      "source": [
        "turismo_df.tail()"
      ],
      "metadata": {
        "colab": {
          "base_uri": "https://localhost:8080/",
          "height": 327
        },
        "id": "zq_ZwD2Nuff6",
        "outputId": "c66aeb81-68df-49ba-d2ff-729808d2b0e4"
      },
      "execution_count": 5,
      "outputs": [
        {
          "output_type": "execute_result",
          "data": {
            "text/plain": [
              "       ANO  MES  CODIGO_RNT  COD_MUN  COD_DPTO ESTADO_RNT  \\\n",
              "2399  2024    5      209566    50001        50     ACTIVO   \n",
              "2400  2024    5      209572    50606        50     ACTIVO   \n",
              "2401  2024    5      209587    50001        50     ACTIVO   \n",
              "2402  2024    5      209603    50001        50     ACTIVO   \n",
              "2403  2024    5      209643    50006        50     ACTIVO   \n",
              "\n",
              "         RAZON_SOCIAL_ESTABLECIMIENTO DEPARTAMENTO      MUNICIPIO  \\\n",
              "2399  NICOLAS ALEJANDRO MOROS JIMENEZ         META  VILLAVICENCIO   \n",
              "2400        JOSE ALVEIRO AVILA SUAREZ         META       RESTREPO   \n",
              "2401   CLAUDIA PATRICIA ARDILA ARDILA         META  VILLAVICENCIO   \n",
              "2402      ANGYE PAOLA SUAREZ BAUTISTA         META  VILLAVICENCIO   \n",
              "2403   ESTADERO TURISTICO EL CAÑONAZO         META        ACACIAS   \n",
              "\n",
              "                 CATEGORIA                        SUB_CATEGORIA  NUM_EMP  \\\n",
              "2399  VIVIENDAS TURÍSTICAS                APARTAMENTO TURÍSTICO        0   \n",
              "2400  VIVIENDAS TURÍSTICAS                       CASA TURÍSTICA        0   \n",
              "2401  VIVIENDAS TURÍSTICAS                       CASA TURÍSTICA        0   \n",
              "2402  VIVIENDAS TURÍSTICAS                APARTAMENTO TURÍSTICO        0   \n",
              "2403  VIVIENDAS TURÍSTICAS  FINCA TURISTICA (ALOJAMIENTO RURAL)        0   \n",
              "\n",
              "      HABITACIONES  CAMAS  \n",
              "2399             1      2  \n",
              "2400            14      5  \n",
              "2401             3      4  \n",
              "2402             1      8  \n",
              "2403             2      4  "
            ],
            "text/html": [
              "\n",
              "  <div id=\"df-5f6a1920-3e40-4daa-a11f-88dac2fd6b08\" class=\"colab-df-container\">\n",
              "    <div>\n",
              "<style scoped>\n",
              "    .dataframe tbody tr th:only-of-type {\n",
              "        vertical-align: middle;\n",
              "    }\n",
              "\n",
              "    .dataframe tbody tr th {\n",
              "        vertical-align: top;\n",
              "    }\n",
              "\n",
              "    .dataframe thead th {\n",
              "        text-align: right;\n",
              "    }\n",
              "</style>\n",
              "<table border=\"1\" class=\"dataframe\">\n",
              "  <thead>\n",
              "    <tr style=\"text-align: right;\">\n",
              "      <th></th>\n",
              "      <th>ANO</th>\n",
              "      <th>MES</th>\n",
              "      <th>CODIGO_RNT</th>\n",
              "      <th>COD_MUN</th>\n",
              "      <th>COD_DPTO</th>\n",
              "      <th>ESTADO_RNT</th>\n",
              "      <th>RAZON_SOCIAL_ESTABLECIMIENTO</th>\n",
              "      <th>DEPARTAMENTO</th>\n",
              "      <th>MUNICIPIO</th>\n",
              "      <th>CATEGORIA</th>\n",
              "      <th>SUB_CATEGORIA</th>\n",
              "      <th>NUM_EMP</th>\n",
              "      <th>HABITACIONES</th>\n",
              "      <th>CAMAS</th>\n",
              "    </tr>\n",
              "  </thead>\n",
              "  <tbody>\n",
              "    <tr>\n",
              "      <th>2399</th>\n",
              "      <td>2024</td>\n",
              "      <td>5</td>\n",
              "      <td>209566</td>\n",
              "      <td>50001</td>\n",
              "      <td>50</td>\n",
              "      <td>ACTIVO</td>\n",
              "      <td>NICOLAS ALEJANDRO MOROS JIMENEZ</td>\n",
              "      <td>META</td>\n",
              "      <td>VILLAVICENCIO</td>\n",
              "      <td>VIVIENDAS TURÍSTICAS</td>\n",
              "      <td>APARTAMENTO TURÍSTICO</td>\n",
              "      <td>0</td>\n",
              "      <td>1</td>\n",
              "      <td>2</td>\n",
              "    </tr>\n",
              "    <tr>\n",
              "      <th>2400</th>\n",
              "      <td>2024</td>\n",
              "      <td>5</td>\n",
              "      <td>209572</td>\n",
              "      <td>50606</td>\n",
              "      <td>50</td>\n",
              "      <td>ACTIVO</td>\n",
              "      <td>JOSE ALVEIRO AVILA SUAREZ</td>\n",
              "      <td>META</td>\n",
              "      <td>RESTREPO</td>\n",
              "      <td>VIVIENDAS TURÍSTICAS</td>\n",
              "      <td>CASA TURÍSTICA</td>\n",
              "      <td>0</td>\n",
              "      <td>14</td>\n",
              "      <td>5</td>\n",
              "    </tr>\n",
              "    <tr>\n",
              "      <th>2401</th>\n",
              "      <td>2024</td>\n",
              "      <td>5</td>\n",
              "      <td>209587</td>\n",
              "      <td>50001</td>\n",
              "      <td>50</td>\n",
              "      <td>ACTIVO</td>\n",
              "      <td>CLAUDIA PATRICIA ARDILA ARDILA</td>\n",
              "      <td>META</td>\n",
              "      <td>VILLAVICENCIO</td>\n",
              "      <td>VIVIENDAS TURÍSTICAS</td>\n",
              "      <td>CASA TURÍSTICA</td>\n",
              "      <td>0</td>\n",
              "      <td>3</td>\n",
              "      <td>4</td>\n",
              "    </tr>\n",
              "    <tr>\n",
              "      <th>2402</th>\n",
              "      <td>2024</td>\n",
              "      <td>5</td>\n",
              "      <td>209603</td>\n",
              "      <td>50001</td>\n",
              "      <td>50</td>\n",
              "      <td>ACTIVO</td>\n",
              "      <td>ANGYE PAOLA SUAREZ BAUTISTA</td>\n",
              "      <td>META</td>\n",
              "      <td>VILLAVICENCIO</td>\n",
              "      <td>VIVIENDAS TURÍSTICAS</td>\n",
              "      <td>APARTAMENTO TURÍSTICO</td>\n",
              "      <td>0</td>\n",
              "      <td>1</td>\n",
              "      <td>8</td>\n",
              "    </tr>\n",
              "    <tr>\n",
              "      <th>2403</th>\n",
              "      <td>2024</td>\n",
              "      <td>5</td>\n",
              "      <td>209643</td>\n",
              "      <td>50006</td>\n",
              "      <td>50</td>\n",
              "      <td>ACTIVO</td>\n",
              "      <td>ESTADERO TURISTICO EL CAÑONAZO</td>\n",
              "      <td>META</td>\n",
              "      <td>ACACIAS</td>\n",
              "      <td>VIVIENDAS TURÍSTICAS</td>\n",
              "      <td>FINCA TURISTICA (ALOJAMIENTO RURAL)</td>\n",
              "      <td>0</td>\n",
              "      <td>2</td>\n",
              "      <td>4</td>\n",
              "    </tr>\n",
              "  </tbody>\n",
              "</table>\n",
              "</div>\n",
              "    <div class=\"colab-df-buttons\">\n",
              "\n",
              "  <div class=\"colab-df-container\">\n",
              "    <button class=\"colab-df-convert\" onclick=\"convertToInteractive('df-5f6a1920-3e40-4daa-a11f-88dac2fd6b08')\"\n",
              "            title=\"Convert this dataframe to an interactive table.\"\n",
              "            style=\"display:none;\">\n",
              "\n",
              "  <svg xmlns=\"http://www.w3.org/2000/svg\" height=\"24px\" viewBox=\"0 -960 960 960\">\n",
              "    <path d=\"M120-120v-720h720v720H120Zm60-500h600v-160H180v160Zm220 220h160v-160H400v160Zm0 220h160v-160H400v160ZM180-400h160v-160H180v160Zm440 0h160v-160H620v160ZM180-180h160v-160H180v160Zm440 0h160v-160H620v160Z\"/>\n",
              "  </svg>\n",
              "    </button>\n",
              "\n",
              "  <style>\n",
              "    .colab-df-container {\n",
              "      display:flex;\n",
              "      gap: 12px;\n",
              "    }\n",
              "\n",
              "    .colab-df-convert {\n",
              "      background-color: #E8F0FE;\n",
              "      border: none;\n",
              "      border-radius: 50%;\n",
              "      cursor: pointer;\n",
              "      display: none;\n",
              "      fill: #1967D2;\n",
              "      height: 32px;\n",
              "      padding: 0 0 0 0;\n",
              "      width: 32px;\n",
              "    }\n",
              "\n",
              "    .colab-df-convert:hover {\n",
              "      background-color: #E2EBFA;\n",
              "      box-shadow: 0px 1px 2px rgba(60, 64, 67, 0.3), 0px 1px 3px 1px rgba(60, 64, 67, 0.15);\n",
              "      fill: #174EA6;\n",
              "    }\n",
              "\n",
              "    .colab-df-buttons div {\n",
              "      margin-bottom: 4px;\n",
              "    }\n",
              "\n",
              "    [theme=dark] .colab-df-convert {\n",
              "      background-color: #3B4455;\n",
              "      fill: #D2E3FC;\n",
              "    }\n",
              "\n",
              "    [theme=dark] .colab-df-convert:hover {\n",
              "      background-color: #434B5C;\n",
              "      box-shadow: 0px 1px 3px 1px rgba(0, 0, 0, 0.15);\n",
              "      filter: drop-shadow(0px 1px 2px rgba(0, 0, 0, 0.3));\n",
              "      fill: #FFFFFF;\n",
              "    }\n",
              "  </style>\n",
              "\n",
              "    <script>\n",
              "      const buttonEl =\n",
              "        document.querySelector('#df-5f6a1920-3e40-4daa-a11f-88dac2fd6b08 button.colab-df-convert');\n",
              "      buttonEl.style.display =\n",
              "        google.colab.kernel.accessAllowed ? 'block' : 'none';\n",
              "\n",
              "      async function convertToInteractive(key) {\n",
              "        const element = document.querySelector('#df-5f6a1920-3e40-4daa-a11f-88dac2fd6b08');\n",
              "        const dataTable =\n",
              "          await google.colab.kernel.invokeFunction('convertToInteractive',\n",
              "                                                    [key], {});\n",
              "        if (!dataTable) return;\n",
              "\n",
              "        const docLinkHtml = 'Like what you see? Visit the ' +\n",
              "          '<a target=\"_blank\" href=https://colab.research.google.com/notebooks/data_table.ipynb>data table notebook</a>'\n",
              "          + ' to learn more about interactive tables.';\n",
              "        element.innerHTML = '';\n",
              "        dataTable['output_type'] = 'display_data';\n",
              "        await google.colab.output.renderOutput(dataTable, element);\n",
              "        const docLink = document.createElement('div');\n",
              "        docLink.innerHTML = docLinkHtml;\n",
              "        element.appendChild(docLink);\n",
              "      }\n",
              "    </script>\n",
              "  </div>\n",
              "\n",
              "\n",
              "<div id=\"df-41d2b5b3-2f23-419b-a7ce-2bd4e7b0ca70\">\n",
              "  <button class=\"colab-df-quickchart\" onclick=\"quickchart('df-41d2b5b3-2f23-419b-a7ce-2bd4e7b0ca70')\"\n",
              "            title=\"Suggest charts\"\n",
              "            style=\"display:none;\">\n",
              "\n",
              "<svg xmlns=\"http://www.w3.org/2000/svg\" height=\"24px\"viewBox=\"0 0 24 24\"\n",
              "     width=\"24px\">\n",
              "    <g>\n",
              "        <path d=\"M19 3H5c-1.1 0-2 .9-2 2v14c0 1.1.9 2 2 2h14c1.1 0 2-.9 2-2V5c0-1.1-.9-2-2-2zM9 17H7v-7h2v7zm4 0h-2V7h2v10zm4 0h-2v-4h2v4z\"/>\n",
              "    </g>\n",
              "</svg>\n",
              "  </button>\n",
              "\n",
              "<style>\n",
              "  .colab-df-quickchart {\n",
              "      --bg-color: #E8F0FE;\n",
              "      --fill-color: #1967D2;\n",
              "      --hover-bg-color: #E2EBFA;\n",
              "      --hover-fill-color: #174EA6;\n",
              "      --disabled-fill-color: #AAA;\n",
              "      --disabled-bg-color: #DDD;\n",
              "  }\n",
              "\n",
              "  [theme=dark] .colab-df-quickchart {\n",
              "      --bg-color: #3B4455;\n",
              "      --fill-color: #D2E3FC;\n",
              "      --hover-bg-color: #434B5C;\n",
              "      --hover-fill-color: #FFFFFF;\n",
              "      --disabled-bg-color: #3B4455;\n",
              "      --disabled-fill-color: #666;\n",
              "  }\n",
              "\n",
              "  .colab-df-quickchart {\n",
              "    background-color: var(--bg-color);\n",
              "    border: none;\n",
              "    border-radius: 50%;\n",
              "    cursor: pointer;\n",
              "    display: none;\n",
              "    fill: var(--fill-color);\n",
              "    height: 32px;\n",
              "    padding: 0;\n",
              "    width: 32px;\n",
              "  }\n",
              "\n",
              "  .colab-df-quickchart:hover {\n",
              "    background-color: var(--hover-bg-color);\n",
              "    box-shadow: 0 1px 2px rgba(60, 64, 67, 0.3), 0 1px 3px 1px rgba(60, 64, 67, 0.15);\n",
              "    fill: var(--button-hover-fill-color);\n",
              "  }\n",
              "\n",
              "  .colab-df-quickchart-complete:disabled,\n",
              "  .colab-df-quickchart-complete:disabled:hover {\n",
              "    background-color: var(--disabled-bg-color);\n",
              "    fill: var(--disabled-fill-color);\n",
              "    box-shadow: none;\n",
              "  }\n",
              "\n",
              "  .colab-df-spinner {\n",
              "    border: 2px solid var(--fill-color);\n",
              "    border-color: transparent;\n",
              "    border-bottom-color: var(--fill-color);\n",
              "    animation:\n",
              "      spin 1s steps(1) infinite;\n",
              "  }\n",
              "\n",
              "  @keyframes spin {\n",
              "    0% {\n",
              "      border-color: transparent;\n",
              "      border-bottom-color: var(--fill-color);\n",
              "      border-left-color: var(--fill-color);\n",
              "    }\n",
              "    20% {\n",
              "      border-color: transparent;\n",
              "      border-left-color: var(--fill-color);\n",
              "      border-top-color: var(--fill-color);\n",
              "    }\n",
              "    30% {\n",
              "      border-color: transparent;\n",
              "      border-left-color: var(--fill-color);\n",
              "      border-top-color: var(--fill-color);\n",
              "      border-right-color: var(--fill-color);\n",
              "    }\n",
              "    40% {\n",
              "      border-color: transparent;\n",
              "      border-right-color: var(--fill-color);\n",
              "      border-top-color: var(--fill-color);\n",
              "    }\n",
              "    60% {\n",
              "      border-color: transparent;\n",
              "      border-right-color: var(--fill-color);\n",
              "    }\n",
              "    80% {\n",
              "      border-color: transparent;\n",
              "      border-right-color: var(--fill-color);\n",
              "      border-bottom-color: var(--fill-color);\n",
              "    }\n",
              "    90% {\n",
              "      border-color: transparent;\n",
              "      border-bottom-color: var(--fill-color);\n",
              "    }\n",
              "  }\n",
              "</style>\n",
              "\n",
              "  <script>\n",
              "    async function quickchart(key) {\n",
              "      const quickchartButtonEl =\n",
              "        document.querySelector('#' + key + ' button');\n",
              "      quickchartButtonEl.disabled = true;  // To prevent multiple clicks.\n",
              "      quickchartButtonEl.classList.add('colab-df-spinner');\n",
              "      try {\n",
              "        const charts = await google.colab.kernel.invokeFunction(\n",
              "            'suggestCharts', [key], {});\n",
              "      } catch (error) {\n",
              "        console.error('Error during call to suggestCharts:', error);\n",
              "      }\n",
              "      quickchartButtonEl.classList.remove('colab-df-spinner');\n",
              "      quickchartButtonEl.classList.add('colab-df-quickchart-complete');\n",
              "    }\n",
              "    (() => {\n",
              "      let quickchartButtonEl =\n",
              "        document.querySelector('#df-41d2b5b3-2f23-419b-a7ce-2bd4e7b0ca70 button');\n",
              "      quickchartButtonEl.style.display =\n",
              "        google.colab.kernel.accessAllowed ? 'block' : 'none';\n",
              "    })();\n",
              "  </script>\n",
              "</div>\n",
              "\n",
              "    </div>\n",
              "  </div>\n"
            ],
            "application/vnd.google.colaboratory.intrinsic+json": {
              "type": "dataframe",
              "summary": "{\n  \"name\": \"turismo_df\",\n  \"rows\": 5,\n  \"fields\": [\n    {\n      \"column\": \"ANO\",\n      \"properties\": {\n        \"dtype\": \"number\",\n        \"std\": 0,\n        \"min\": 2024,\n        \"max\": 2024,\n        \"num_unique_values\": 1,\n        \"samples\": [\n          2024\n        ],\n        \"semantic_type\": \"\",\n        \"description\": \"\"\n      }\n    },\n    {\n      \"column\": \"MES\",\n      \"properties\": {\n        \"dtype\": \"number\",\n        \"std\": 0,\n        \"min\": 5,\n        \"max\": 5,\n        \"num_unique_values\": 1,\n        \"samples\": [\n          5\n        ],\n        \"semantic_type\": \"\",\n        \"description\": \"\"\n      }\n    },\n    {\n      \"column\": \"CODIGO_RNT\",\n      \"properties\": {\n        \"dtype\": \"number\",\n        \"std\": 30,\n        \"min\": 209566,\n        \"max\": 209643,\n        \"num_unique_values\": 5,\n        \"samples\": [\n          209572\n        ],\n        \"semantic_type\": \"\",\n        \"description\": \"\"\n      }\n    },\n    {\n      \"column\": \"COD_MUN\",\n      \"properties\": {\n        \"dtype\": \"number\",\n        \"std\": 270,\n        \"min\": 50001,\n        \"max\": 50606,\n        \"num_unique_values\": 3,\n        \"samples\": [\n          50001\n        ],\n        \"semantic_type\": \"\",\n        \"description\": \"\"\n      }\n    },\n    {\n      \"column\": \"COD_DPTO\",\n      \"properties\": {\n        \"dtype\": \"number\",\n        \"std\": 0,\n        \"min\": 50,\n        \"max\": 50,\n        \"num_unique_values\": 1,\n        \"samples\": [\n          50\n        ],\n        \"semantic_type\": \"\",\n        \"description\": \"\"\n      }\n    },\n    {\n      \"column\": \"ESTADO_RNT\",\n      \"properties\": {\n        \"dtype\": \"category\",\n        \"num_unique_values\": 1,\n        \"samples\": [\n          \"ACTIVO\"\n        ],\n        \"semantic_type\": \"\",\n        \"description\": \"\"\n      }\n    },\n    {\n      \"column\": \"RAZON_SOCIAL_ESTABLECIMIENTO\",\n      \"properties\": {\n        \"dtype\": \"string\",\n        \"num_unique_values\": 5,\n        \"samples\": [\n          \"JOSE ALVEIRO AVILA SUAREZ\"\n        ],\n        \"semantic_type\": \"\",\n        \"description\": \"\"\n      }\n    },\n    {\n      \"column\": \"DEPARTAMENTO\",\n      \"properties\": {\n        \"dtype\": \"category\",\n        \"num_unique_values\": 1,\n        \"samples\": [\n          \"META\"\n        ],\n        \"semantic_type\": \"\",\n        \"description\": \"\"\n      }\n    },\n    {\n      \"column\": \"MUNICIPIO\",\n      \"properties\": {\n        \"dtype\": \"string\",\n        \"num_unique_values\": 3,\n        \"samples\": [\n          \"VILLAVICENCIO\"\n        ],\n        \"semantic_type\": \"\",\n        \"description\": \"\"\n      }\n    },\n    {\n      \"column\": \"CATEGORIA\",\n      \"properties\": {\n        \"dtype\": \"category\",\n        \"num_unique_values\": 1,\n        \"samples\": [\n          \"VIVIENDAS TUR\\u00cdSTICAS\"\n        ],\n        \"semantic_type\": \"\",\n        \"description\": \"\"\n      }\n    },\n    {\n      \"column\": \"SUB_CATEGORIA\",\n      \"properties\": {\n        \"dtype\": \"string\",\n        \"num_unique_values\": 3,\n        \"samples\": [\n          \"APARTAMENTO TUR\\u00cdSTICO\"\n        ],\n        \"semantic_type\": \"\",\n        \"description\": \"\"\n      }\n    },\n    {\n      \"column\": \"NUM_EMP\",\n      \"properties\": {\n        \"dtype\": \"number\",\n        \"std\": 0,\n        \"min\": 0,\n        \"max\": 0,\n        \"num_unique_values\": 1,\n        \"samples\": [\n          0\n        ],\n        \"semantic_type\": \"\",\n        \"description\": \"\"\n      }\n    },\n    {\n      \"column\": \"HABITACIONES\",\n      \"properties\": {\n        \"dtype\": \"number\",\n        \"std\": 5,\n        \"min\": 1,\n        \"max\": 14,\n        \"num_unique_values\": 4,\n        \"samples\": [\n          14\n        ],\n        \"semantic_type\": \"\",\n        \"description\": \"\"\n      }\n    },\n    {\n      \"column\": \"CAMAS\",\n      \"properties\": {\n        \"dtype\": \"number\",\n        \"std\": 2,\n        \"min\": 2,\n        \"max\": 8,\n        \"num_unique_values\": 4,\n        \"samples\": [\n          5\n        ],\n        \"semantic_type\": \"\",\n        \"description\": \"\"\n      }\n    }\n  ]\n}"
            }
          },
          "metadata": {},
          "execution_count": 5
        }
      ]
    },
    {
      "cell_type": "code",
      "source": [
        "registros_con_comillas_dobles = turismo_df['RAZON_SOCIAL_ESTABLECIMIENTO'].str.contains('\"').sum()\n",
        "registros_con_comillas_simples = turismo_df['RAZON_SOCIAL_ESTABLECIMIENTO'].str.contains(\"'\").sum()\n",
        "total_registros_con_comillas = registros_con_comillas_dobles + registros_con_comillas_simples\n",
        "\n",
        "total_registros_con_comillas"
      ],
      "metadata": {
        "colab": {
          "base_uri": "https://localhost:8080/"
        },
        "id": "-1IwUgNBwjaS",
        "outputId": "61add660-46c9-4b77-e2e9-7cdd264921fe"
      },
      "execution_count": 6,
      "outputs": [
        {
          "output_type": "execute_result",
          "data": {
            "text/plain": [
              "4"
            ]
          },
          "metadata": {},
          "execution_count": 6
        }
      ]
    },
    {
      "cell_type": "code",
      "source": [
        "turismo_df['RAZON_SOCIAL_ESTABLECIMIENTO'] = turismo_df['RAZON_SOCIAL_ESTABLECIMIENTO'].str.replace('\"', '').str.replace(\"'\", '')"
      ],
      "metadata": {
        "id": "mGPmxIpmyMco"
      },
      "execution_count": 7,
      "outputs": []
    },
    {
      "cell_type": "code",
      "source": [
        "registros_con_comillas_dobles = turismo_df['RAZON_SOCIAL_ESTABLECIMIENTO'].str.contains('\"').sum()\n",
        "registros_con_comillas_simples = turismo_df['RAZON_SOCIAL_ESTABLECIMIENTO'].str.contains(\"'\").sum()\n",
        "total_registros_con_comillas = registros_con_comillas_dobles + registros_con_comillas_simples\n",
        "\n",
        "total_registros_con_comillas"
      ],
      "metadata": {
        "colab": {
          "base_uri": "https://localhost:8080/"
        },
        "id": "81F6C12ty2U-",
        "outputId": "d06bed5a-5d92-4e57-d150-329f90c62283"
      },
      "execution_count": 8,
      "outputs": [
        {
          "output_type": "execute_result",
          "data": {
            "text/plain": [
              "0"
            ]
          },
          "metadata": {},
          "execution_count": 8
        }
      ]
    },
    {
      "cell_type": "code",
      "source": [
        "registros_con_comas = turismo_df['RAZON_SOCIAL_ESTABLECIMIENTO'].str.contains(',').sum()\n",
        "\n",
        "registros_con_comas"
      ],
      "metadata": {
        "colab": {
          "base_uri": "https://localhost:8080/"
        },
        "id": "iNw9L19RzU68",
        "outputId": "d8c94aa1-89f2-41a0-e6eb-d43ba6d2f533"
      },
      "execution_count": 9,
      "outputs": [
        {
          "output_type": "execute_result",
          "data": {
            "text/plain": [
              "0"
            ]
          },
          "metadata": {},
          "execution_count": 9
        }
      ]
    },
    {
      "cell_type": "code",
      "source": [
        "registros_con_puntoycomas = turismo_df['RAZON_SOCIAL_ESTABLECIMIENTO'].str.contains(';').sum()\n",
        "\n",
        "registros_con_puntoycomas"
      ],
      "metadata": {
        "colab": {
          "base_uri": "https://localhost:8080/"
        },
        "id": "2ufoT21ozkbw",
        "outputId": "a5468813-b983-4b05-e8e6-6ff80ecdd628"
      },
      "execution_count": 10,
      "outputs": [
        {
          "output_type": "execute_result",
          "data": {
            "text/plain": [
              "0"
            ]
          },
          "metadata": {},
          "execution_count": 10
        }
      ]
    },
    {
      "cell_type": "code",
      "source": [
        "registros_con_comillas_dobles = turismo_df['CATEGORIA'].str.contains('\"').sum()\n",
        "registros_con_comillas_simples = turismo_df['CATEGORIA'].str.contains(\"'\").sum()\n",
        "total_registros_con_comillas = registros_con_comillas_dobles + registros_con_comillas_simples\n",
        "\n",
        "total_registros_con_comillas"
      ],
      "metadata": {
        "colab": {
          "base_uri": "https://localhost:8080/"
        },
        "id": "AWzB-hLe0IAh",
        "outputId": "8c323115-29b6-4f60-c78e-4d5955eb4b86"
      },
      "execution_count": 11,
      "outputs": [
        {
          "output_type": "execute_result",
          "data": {
            "text/plain": [
              "0"
            ]
          },
          "metadata": {},
          "execution_count": 11
        }
      ]
    },
    {
      "cell_type": "code",
      "source": [
        "registros_con_comas = turismo_df['CATEGORIA'].str.contains(',').sum()\n",
        "\n",
        "registros_con_comas"
      ],
      "metadata": {
        "colab": {
          "base_uri": "https://localhost:8080/"
        },
        "id": "NFGkfCn10P8t",
        "outputId": "ec2a6d75-f1fc-40cc-ddbf-4782c158e342"
      },
      "execution_count": 12,
      "outputs": [
        {
          "output_type": "execute_result",
          "data": {
            "text/plain": [
              "0"
            ]
          },
          "metadata": {},
          "execution_count": 12
        }
      ]
    },
    {
      "cell_type": "code",
      "source": [
        "registros_con_puntoycomas = turismo_df['CATEGORIA'].str.contains(';').sum()\n",
        "\n",
        "registros_con_puntoycomas"
      ],
      "metadata": {
        "colab": {
          "base_uri": "https://localhost:8080/"
        },
        "id": "mD6ZAebi0YfX",
        "outputId": "f342b21b-eba4-46c8-ba59-647462afbf72"
      },
      "execution_count": 13,
      "outputs": [
        {
          "output_type": "execute_result",
          "data": {
            "text/plain": [
              "0"
            ]
          },
          "metadata": {},
          "execution_count": 13
        }
      ]
    },
    {
      "cell_type": "code",
      "source": [
        "registros_con_comillas_dobles = turismo_df['SUB_CATEGORIA'].str.contains('\"').sum()\n",
        "registros_con_comillas_simples = turismo_df['SUB_CATEGORIA'].str.contains(\"'\").sum()\n",
        "total_registros_con_comillas = registros_con_comillas_dobles + registros_con_comillas_simples\n",
        "\n",
        "total_registros_con_comillas"
      ],
      "metadata": {
        "colab": {
          "base_uri": "https://localhost:8080/"
        },
        "id": "Z6DQiwqj-Fai",
        "outputId": "47639689-893f-4ca4-e441-5f8584ccc386"
      },
      "execution_count": 14,
      "outputs": [
        {
          "output_type": "execute_result",
          "data": {
            "text/plain": [
              "0"
            ]
          },
          "metadata": {},
          "execution_count": 14
        }
      ]
    },
    {
      "cell_type": "code",
      "source": [
        "registros_con_comas = turismo_df['SUB_CATEGORIA'].str.contains(',').sum()\n",
        "\n",
        "registros_con_comas"
      ],
      "metadata": {
        "colab": {
          "base_uri": "https://localhost:8080/"
        },
        "id": "vIMbDbaH-TpB",
        "outputId": "b2854a62-af2b-4e54-b5b2-043d2a468221"
      },
      "execution_count": 15,
      "outputs": [
        {
          "output_type": "execute_result",
          "data": {
            "text/plain": [
              "0"
            ]
          },
          "metadata": {},
          "execution_count": 15
        }
      ]
    },
    {
      "cell_type": "code",
      "source": [
        "registros_con_puntoycomas = turismo_df['SUB_CATEGORIA'].str.contains(';').sum()\n",
        "\n",
        "registros_con_puntoycomas"
      ],
      "metadata": {
        "colab": {
          "base_uri": "https://localhost:8080/"
        },
        "id": "poG3l33w-b1k",
        "outputId": "cddb7694-4958-450e-fced-497746d6c17e"
      },
      "execution_count": 16,
      "outputs": [
        {
          "output_type": "execute_result",
          "data": {
            "text/plain": [
              "0"
            ]
          },
          "metadata": {},
          "execution_count": 16
        }
      ]
    },
    {
      "cell_type": "code",
      "source": [
        "print(turismo_df.info())"
      ],
      "metadata": {
        "colab": {
          "base_uri": "https://localhost:8080/"
        },
        "id": "tMhP_AljztB2",
        "outputId": "bbaea062-4d70-487c-e492-a2302c883095"
      },
      "execution_count": 17,
      "outputs": [
        {
          "output_type": "stream",
          "name": "stdout",
          "text": [
            "<class 'pandas.core.frame.DataFrame'>\n",
            "RangeIndex: 2404 entries, 0 to 2403\n",
            "Data columns (total 14 columns):\n",
            " #   Column                        Non-Null Count  Dtype \n",
            "---  ------                        --------------  ----- \n",
            " 0   ANO                           2404 non-null   int64 \n",
            " 1   MES                           2404 non-null   int64 \n",
            " 2   CODIGO_RNT                    2404 non-null   int64 \n",
            " 3   COD_MUN                       2404 non-null   int64 \n",
            " 4   COD_DPTO                      2404 non-null   int64 \n",
            " 5   ESTADO_RNT                    2404 non-null   object\n",
            " 6   RAZON_SOCIAL_ESTABLECIMIENTO  2404 non-null   object\n",
            " 7   DEPARTAMENTO                  2404 non-null   object\n",
            " 8   MUNICIPIO                     2404 non-null   object\n",
            " 9   CATEGORIA                     2404 non-null   object\n",
            " 10  SUB_CATEGORIA                 2404 non-null   object\n",
            " 11  NUM_EMP                       2404 non-null   int64 \n",
            " 12  HABITACIONES                  2404 non-null   int64 \n",
            " 13  CAMAS                         2404 non-null   int64 \n",
            "dtypes: int64(8), object(6)\n",
            "memory usage: 263.1+ KB\n",
            "None\n"
          ]
        }
      ]
    },
    {
      "cell_type": "code",
      "source": [
        "num_registros = turismo_df.shape[0]\n",
        "print(f\"El número de registros en el dataset es: {num_registros}\")"
      ],
      "metadata": {
        "colab": {
          "base_uri": "https://localhost:8080/"
        },
        "id": "EoNj-ewbz__R",
        "outputId": "6154d8eb-880c-4c69-fd34-f40b839522b4"
      },
      "execution_count": 18,
      "outputs": [
        {
          "output_type": "stream",
          "name": "stdout",
          "text": [
            "El número de registros en el dataset es: 2404\n"
          ]
        }
      ]
    },
    {
      "cell_type": "code",
      "source": [
        "print(turismo_df.isnull().sum())"
      ],
      "metadata": {
        "colab": {
          "base_uri": "https://localhost:8080/"
        },
        "id": "rpgg6r9H-hn8",
        "outputId": "9f24b6ff-ed17-41f6-c73d-e567faf16cb0"
      },
      "execution_count": 19,
      "outputs": [
        {
          "output_type": "stream",
          "name": "stdout",
          "text": [
            "ANO                             0\n",
            "MES                             0\n",
            "CODIGO_RNT                      0\n",
            "COD_MUN                         0\n",
            "COD_DPTO                        0\n",
            "ESTADO_RNT                      0\n",
            "RAZON_SOCIAL_ESTABLECIMIENTO    0\n",
            "DEPARTAMENTO                    0\n",
            "MUNICIPIO                       0\n",
            "CATEGORIA                       0\n",
            "SUB_CATEGORIA                   0\n",
            "NUM_EMP                         0\n",
            "HABITACIONES                    0\n",
            "CAMAS                           0\n",
            "dtype: int64\n"
          ]
        }
      ]
    },
    {
      "cell_type": "code",
      "source": [
        "codigo_buscar = 206072\n",
        "resultado =turismo_df[turismo_df['CODIGO_RNT'] == codigo_buscar]\n",
        "print(resultado)"
      ],
      "metadata": {
        "colab": {
          "base_uri": "https://localhost:8080/"
        },
        "id": "yIkHBcNHCHUU",
        "outputId": "130ef55f-bb5f-4bd2-95df-c453eb5b31a5"
      },
      "execution_count": 28,
      "outputs": [
        {
          "output_type": "stream",
          "name": "stdout",
          "text": [
            "       ANO  MES  CODIGO_RNT  COD_MUN  COD_DPTO ESTADO_RNT  \\\n",
            "2329  2024    4      206072    50001        50     ACTIVO   \n",
            "\n",
            "     RAZON_SOCIAL_ESTABLECIMIENTO DEPARTAMENTO      MUNICIPIO  \\\n",
            "2329               NEW FORT S A S         META  VILLAVICENCIO   \n",
            "\n",
            "                 CATEGORIA          SUB_CATEGORIA  NUM_EMP  HABITACIONES  \\\n",
            "2329  VIVIENDAS TURÍSTICAS  APARTAMENTO TURÍSTICO        0             1   \n",
            "\n",
            "      CAMAS  \n",
            "2329      2  \n"
          ]
        }
      ]
    },
    {
      "cell_type": "code",
      "source": [
        "codigo_buscar = 206069\n",
        "resultado = turismo_df[turismo_df['CODIGO_RNT'] == codigo_buscar]\n",
        "print(resultado)"
      ],
      "metadata": {
        "colab": {
          "base_uri": "https://localhost:8080/"
        },
        "id": "F3PNwQmCEBuh",
        "outputId": "db357ae7-525c-47fb-b6b6-381f34328df5"
      },
      "execution_count": 29,
      "outputs": [
        {
          "output_type": "stream",
          "name": "stdout",
          "text": [
            "       ANO  MES  CODIGO_RNT  COD_MUN  COD_DPTO ESTADO_RNT  \\\n",
            "2328  2024    4      206069    50001        50     ACTIVO   \n",
            "\n",
            "     RAZON_SOCIAL_ESTABLECIMIENTO DEPARTAMENTO      MUNICIPIO  \\\n",
            "2328               NEW FORT S A S         META  VILLAVICENCIO   \n",
            "\n",
            "                 CATEGORIA          SUB_CATEGORIA  NUM_EMP  HABITACIONES  \\\n",
            "2328  VIVIENDAS TURÍSTICAS  APARTAMENTO TURÍSTICO        0             1   \n",
            "\n",
            "      CAMAS  \n",
            "2328      6  \n"
          ]
        }
      ]
    },
    {
      "cell_type": "code",
      "source": [
        "codigo_buscar = 206068\n",
        "resultado = turismo_df[turismo_df['CODIGO_RNT'] == codigo_buscar]\n",
        "print(resultado)"
      ],
      "metadata": {
        "colab": {
          "base_uri": "https://localhost:8080/"
        },
        "id": "MhXZ4ZjHEXzP",
        "outputId": "102715b6-b129-4998-eeb1-fd2e9221e90a"
      },
      "execution_count": 30,
      "outputs": [
        {
          "output_type": "stream",
          "name": "stdout",
          "text": [
            "       ANO  MES  CODIGO_RNT  COD_MUN  COD_DPTO ESTADO_RNT  \\\n",
            "2327  2024    4      206068    50001        50     ACTIVO   \n",
            "\n",
            "     RAZON_SOCIAL_ESTABLECIMIENTO DEPARTAMENTO      MUNICIPIO  \\\n",
            "2327               NEW FORT S A S         META  VILLAVICENCIO   \n",
            "\n",
            "                 CATEGORIA          SUB_CATEGORIA  NUM_EMP  HABITACIONES  \\\n",
            "2327  VIVIENDAS TURÍSTICAS  APARTAMENTO TURÍSTICO        0             1   \n",
            "\n",
            "      CAMAS  \n",
            "2327      6  \n"
          ]
        }
      ]
    },
    {
      "cell_type": "code",
      "source": [
        "duplicados = turismo_df[turismo_df.duplicated()]\n",
        "print(\"Filas duplicadas:\")\n",
        "print(duplicados)"
      ],
      "metadata": {
        "id": "pwV21JkzEjm-",
        "colab": {
          "base_uri": "https://localhost:8080/"
        },
        "outputId": "e41861d9-01a4-4592-9272-95934a2ec14f"
      },
      "execution_count": 31,
      "outputs": [
        {
          "output_type": "stream",
          "name": "stdout",
          "text": [
            "Filas duplicadas:\n",
            "Empty DataFrame\n",
            "Columns: [ANO, MES, CODIGO_RNT, COD_MUN, COD_DPTO, ESTADO_RNT, RAZON_SOCIAL_ESTABLECIMIENTO, DEPARTAMENTO, MUNICIPIO, CATEGORIA, SUB_CATEGORIA, NUM_EMP, HABITACIONES, CAMAS]\n",
            "Index: []\n"
          ]
        }
      ]
    },
    {
      "cell_type": "code",
      "source": [
        "df_sin_duplicados = turismo_df.drop_duplicates()\n",
        "\n",
        "print(\"DataFrame sin duplicados:\")\n",
        "print(df_sin_duplicados)"
      ],
      "metadata": {
        "colab": {
          "base_uri": "https://localhost:8080/"
        },
        "id": "V_SxbhTElI6N",
        "outputId": "9e4efe2f-b5b9-4cd4-cde6-502e815dd2e1"
      },
      "execution_count": 32,
      "outputs": [
        {
          "output_type": "stream",
          "name": "stdout",
          "text": [
            "DataFrame sin duplicados:\n",
            "       ANO  MES  CODIGO_RNT  COD_MUN  COD_DPTO ESTADO_RNT  \\\n",
            "0     2024    4         789    50001        50     ACTIVO   \n",
            "1     2024    3        1008    50001        50     ACTIVO   \n",
            "2     2024    4        4525    50001        50     ACTIVO   \n",
            "3     2024    3        5345    50001        50     ACTIVO   \n",
            "4     2024    3        5377    50001        50     ACTIVO   \n",
            "...    ...  ...         ...      ...       ...        ...   \n",
            "2399  2024    5      209566    50001        50     ACTIVO   \n",
            "2400  2024    5      209572    50606        50     ACTIVO   \n",
            "2401  2024    5      209587    50001        50     ACTIVO   \n",
            "2402  2024    5      209603    50001        50     ACTIVO   \n",
            "2403  2024    5      209643    50006        50     ACTIVO   \n",
            "\n",
            "           RAZON_SOCIAL_ESTABLECIMIENTO DEPARTAMENTO      MUNICIPIO  \\\n",
            "0                            PROTURISMO         META  VILLAVICENCIO   \n",
            "1             HOTEL VILLAVICENCIO PLAZA         META  VILLAVICENCIO   \n",
            "2                        HOTEL DON LOLO         META  VILLAVICENCIO   \n",
            "3     HOTEL EL ALCARAVAN DE COLSUBSIDIO         META  VILLAVICENCIO   \n",
            "4                      HOTEL NAPOLITANO         META  VILLAVICENCIO   \n",
            "...                                 ...          ...            ...   \n",
            "2399    NICOLAS ALEJANDRO MOROS JIMENEZ         META  VILLAVICENCIO   \n",
            "2400          JOSE ALVEIRO AVILA SUAREZ         META       RESTREPO   \n",
            "2401     CLAUDIA PATRICIA ARDILA ARDILA         META  VILLAVICENCIO   \n",
            "2402        ANGYE PAOLA SUAREZ BAUTISTA         META  VILLAVICENCIO   \n",
            "2403     ESTADERO TURISTICO EL CAÑONAZO         META        ACACIAS   \n",
            "\n",
            "                                      CATEGORIA  \\\n",
            "0                            AGENCIAS DE VIAJES   \n",
            "1     ESTABLECIMIENTOS DE ALOJAMIENTO TURÍSTICO   \n",
            "2     ESTABLECIMIENTOS DE ALOJAMIENTO TURÍSTICO   \n",
            "3     ESTABLECIMIENTOS DE ALOJAMIENTO TURÍSTICO   \n",
            "4     ESTABLECIMIENTOS DE ALOJAMIENTO TURÍSTICO   \n",
            "...                                         ...   \n",
            "2399                       VIVIENDAS TURÍSTICAS   \n",
            "2400                       VIVIENDAS TURÍSTICAS   \n",
            "2401                       VIVIENDAS TURÍSTICAS   \n",
            "2402                       VIVIENDAS TURÍSTICAS   \n",
            "2403                       VIVIENDAS TURÍSTICAS   \n",
            "\n",
            "                            SUB_CATEGORIA  NUM_EMP  HABITACIONES  CAMAS  \n",
            "0          AGENCIA DE VIAJES Y DE TURISMO        3             0      0  \n",
            "1                                   HOTEL        0            65     77  \n",
            "2                                   HOTEL       24            57    138  \n",
            "3                                   HOTEL        0            63    252  \n",
            "4                                   HOTEL        0            65    182  \n",
            "...                                   ...      ...           ...    ...  \n",
            "2399                APARTAMENTO TURÍSTICO        0             1      2  \n",
            "2400                       CASA TURÍSTICA        0            14      5  \n",
            "2401                       CASA TURÍSTICA        0             3      4  \n",
            "2402                APARTAMENTO TURÍSTICO        0             1      8  \n",
            "2403  FINCA TURISTICA (ALOJAMIENTO RURAL)        0             2      4  \n",
            "\n",
            "[2404 rows x 14 columns]\n"
          ]
        }
      ]
    },
    {
      "cell_type": "code",
      "source": [
        "num_registros = df_sin_duplicados.shape[0]\n",
        "print(f\"El número de registros en el dataset es: {num_registros}\")"
      ],
      "metadata": {
        "colab": {
          "base_uri": "https://localhost:8080/"
        },
        "id": "gJ9XX3GGlW4L",
        "outputId": "8ab3b5be-eb36-4916-9eb0-639fb28763e8"
      },
      "execution_count": 33,
      "outputs": [
        {
          "output_type": "stream",
          "name": "stdout",
          "text": [
            "El número de registros en el dataset es: 2404\n"
          ]
        }
      ]
    },
    {
      "cell_type": "code",
      "source": [
        "turismo_df.iloc[20:30,0:1]"
      ],
      "metadata": {
        "colab": {
          "base_uri": "https://localhost:8080/",
          "height": 363
        },
        "id": "KsSNVm4e8LyD",
        "outputId": "b83a9a7c-e835-421e-f63a-a48254a305f3"
      },
      "execution_count": 34,
      "outputs": [
        {
          "output_type": "execute_result",
          "data": {
            "text/plain": [
              "     ANO\n",
              "20  2024\n",
              "21  2024\n",
              "22  2024\n",
              "23  2024\n",
              "24  2024\n",
              "25  2024\n",
              "26  2024\n",
              "27  2024\n",
              "28  2024\n",
              "29  2024"
            ],
            "text/html": [
              "\n",
              "  <div id=\"df-8a5aa35c-2462-48ac-9303-e67937db117b\" class=\"colab-df-container\">\n",
              "    <div>\n",
              "<style scoped>\n",
              "    .dataframe tbody tr th:only-of-type {\n",
              "        vertical-align: middle;\n",
              "    }\n",
              "\n",
              "    .dataframe tbody tr th {\n",
              "        vertical-align: top;\n",
              "    }\n",
              "\n",
              "    .dataframe thead th {\n",
              "        text-align: right;\n",
              "    }\n",
              "</style>\n",
              "<table border=\"1\" class=\"dataframe\">\n",
              "  <thead>\n",
              "    <tr style=\"text-align: right;\">\n",
              "      <th></th>\n",
              "      <th>ANO</th>\n",
              "    </tr>\n",
              "  </thead>\n",
              "  <tbody>\n",
              "    <tr>\n",
              "      <th>20</th>\n",
              "      <td>2024</td>\n",
              "    </tr>\n",
              "    <tr>\n",
              "      <th>21</th>\n",
              "      <td>2024</td>\n",
              "    </tr>\n",
              "    <tr>\n",
              "      <th>22</th>\n",
              "      <td>2024</td>\n",
              "    </tr>\n",
              "    <tr>\n",
              "      <th>23</th>\n",
              "      <td>2024</td>\n",
              "    </tr>\n",
              "    <tr>\n",
              "      <th>24</th>\n",
              "      <td>2024</td>\n",
              "    </tr>\n",
              "    <tr>\n",
              "      <th>25</th>\n",
              "      <td>2024</td>\n",
              "    </tr>\n",
              "    <tr>\n",
              "      <th>26</th>\n",
              "      <td>2024</td>\n",
              "    </tr>\n",
              "    <tr>\n",
              "      <th>27</th>\n",
              "      <td>2024</td>\n",
              "    </tr>\n",
              "    <tr>\n",
              "      <th>28</th>\n",
              "      <td>2024</td>\n",
              "    </tr>\n",
              "    <tr>\n",
              "      <th>29</th>\n",
              "      <td>2024</td>\n",
              "    </tr>\n",
              "  </tbody>\n",
              "</table>\n",
              "</div>\n",
              "    <div class=\"colab-df-buttons\">\n",
              "\n",
              "  <div class=\"colab-df-container\">\n",
              "    <button class=\"colab-df-convert\" onclick=\"convertToInteractive('df-8a5aa35c-2462-48ac-9303-e67937db117b')\"\n",
              "            title=\"Convert this dataframe to an interactive table.\"\n",
              "            style=\"display:none;\">\n",
              "\n",
              "  <svg xmlns=\"http://www.w3.org/2000/svg\" height=\"24px\" viewBox=\"0 -960 960 960\">\n",
              "    <path d=\"M120-120v-720h720v720H120Zm60-500h600v-160H180v160Zm220 220h160v-160H400v160Zm0 220h160v-160H400v160ZM180-400h160v-160H180v160Zm440 0h160v-160H620v160ZM180-180h160v-160H180v160Zm440 0h160v-160H620v160Z\"/>\n",
              "  </svg>\n",
              "    </button>\n",
              "\n",
              "  <style>\n",
              "    .colab-df-container {\n",
              "      display:flex;\n",
              "      gap: 12px;\n",
              "    }\n",
              "\n",
              "    .colab-df-convert {\n",
              "      background-color: #E8F0FE;\n",
              "      border: none;\n",
              "      border-radius: 50%;\n",
              "      cursor: pointer;\n",
              "      display: none;\n",
              "      fill: #1967D2;\n",
              "      height: 32px;\n",
              "      padding: 0 0 0 0;\n",
              "      width: 32px;\n",
              "    }\n",
              "\n",
              "    .colab-df-convert:hover {\n",
              "      background-color: #E2EBFA;\n",
              "      box-shadow: 0px 1px 2px rgba(60, 64, 67, 0.3), 0px 1px 3px 1px rgba(60, 64, 67, 0.15);\n",
              "      fill: #174EA6;\n",
              "    }\n",
              "\n",
              "    .colab-df-buttons div {\n",
              "      margin-bottom: 4px;\n",
              "    }\n",
              "\n",
              "    [theme=dark] .colab-df-convert {\n",
              "      background-color: #3B4455;\n",
              "      fill: #D2E3FC;\n",
              "    }\n",
              "\n",
              "    [theme=dark] .colab-df-convert:hover {\n",
              "      background-color: #434B5C;\n",
              "      box-shadow: 0px 1px 3px 1px rgba(0, 0, 0, 0.15);\n",
              "      filter: drop-shadow(0px 1px 2px rgba(0, 0, 0, 0.3));\n",
              "      fill: #FFFFFF;\n",
              "    }\n",
              "  </style>\n",
              "\n",
              "    <script>\n",
              "      const buttonEl =\n",
              "        document.querySelector('#df-8a5aa35c-2462-48ac-9303-e67937db117b button.colab-df-convert');\n",
              "      buttonEl.style.display =\n",
              "        google.colab.kernel.accessAllowed ? 'block' : 'none';\n",
              "\n",
              "      async function convertToInteractive(key) {\n",
              "        const element = document.querySelector('#df-8a5aa35c-2462-48ac-9303-e67937db117b');\n",
              "        const dataTable =\n",
              "          await google.colab.kernel.invokeFunction('convertToInteractive',\n",
              "                                                    [key], {});\n",
              "        if (!dataTable) return;\n",
              "\n",
              "        const docLinkHtml = 'Like what you see? Visit the ' +\n",
              "          '<a target=\"_blank\" href=https://colab.research.google.com/notebooks/data_table.ipynb>data table notebook</a>'\n",
              "          + ' to learn more about interactive tables.';\n",
              "        element.innerHTML = '';\n",
              "        dataTable['output_type'] = 'display_data';\n",
              "        await google.colab.output.renderOutput(dataTable, element);\n",
              "        const docLink = document.createElement('div');\n",
              "        docLink.innerHTML = docLinkHtml;\n",
              "        element.appendChild(docLink);\n",
              "      }\n",
              "    </script>\n",
              "  </div>\n",
              "\n",
              "\n",
              "<div id=\"df-cc143d8c-4995-42a4-8dec-8bf49857a227\">\n",
              "  <button class=\"colab-df-quickchart\" onclick=\"quickchart('df-cc143d8c-4995-42a4-8dec-8bf49857a227')\"\n",
              "            title=\"Suggest charts\"\n",
              "            style=\"display:none;\">\n",
              "\n",
              "<svg xmlns=\"http://www.w3.org/2000/svg\" height=\"24px\"viewBox=\"0 0 24 24\"\n",
              "     width=\"24px\">\n",
              "    <g>\n",
              "        <path d=\"M19 3H5c-1.1 0-2 .9-2 2v14c0 1.1.9 2 2 2h14c1.1 0 2-.9 2-2V5c0-1.1-.9-2-2-2zM9 17H7v-7h2v7zm4 0h-2V7h2v10zm4 0h-2v-4h2v4z\"/>\n",
              "    </g>\n",
              "</svg>\n",
              "  </button>\n",
              "\n",
              "<style>\n",
              "  .colab-df-quickchart {\n",
              "      --bg-color: #E8F0FE;\n",
              "      --fill-color: #1967D2;\n",
              "      --hover-bg-color: #E2EBFA;\n",
              "      --hover-fill-color: #174EA6;\n",
              "      --disabled-fill-color: #AAA;\n",
              "      --disabled-bg-color: #DDD;\n",
              "  }\n",
              "\n",
              "  [theme=dark] .colab-df-quickchart {\n",
              "      --bg-color: #3B4455;\n",
              "      --fill-color: #D2E3FC;\n",
              "      --hover-bg-color: #434B5C;\n",
              "      --hover-fill-color: #FFFFFF;\n",
              "      --disabled-bg-color: #3B4455;\n",
              "      --disabled-fill-color: #666;\n",
              "  }\n",
              "\n",
              "  .colab-df-quickchart {\n",
              "    background-color: var(--bg-color);\n",
              "    border: none;\n",
              "    border-radius: 50%;\n",
              "    cursor: pointer;\n",
              "    display: none;\n",
              "    fill: var(--fill-color);\n",
              "    height: 32px;\n",
              "    padding: 0;\n",
              "    width: 32px;\n",
              "  }\n",
              "\n",
              "  .colab-df-quickchart:hover {\n",
              "    background-color: var(--hover-bg-color);\n",
              "    box-shadow: 0 1px 2px rgba(60, 64, 67, 0.3), 0 1px 3px 1px rgba(60, 64, 67, 0.15);\n",
              "    fill: var(--button-hover-fill-color);\n",
              "  }\n",
              "\n",
              "  .colab-df-quickchart-complete:disabled,\n",
              "  .colab-df-quickchart-complete:disabled:hover {\n",
              "    background-color: var(--disabled-bg-color);\n",
              "    fill: var(--disabled-fill-color);\n",
              "    box-shadow: none;\n",
              "  }\n",
              "\n",
              "  .colab-df-spinner {\n",
              "    border: 2px solid var(--fill-color);\n",
              "    border-color: transparent;\n",
              "    border-bottom-color: var(--fill-color);\n",
              "    animation:\n",
              "      spin 1s steps(1) infinite;\n",
              "  }\n",
              "\n",
              "  @keyframes spin {\n",
              "    0% {\n",
              "      border-color: transparent;\n",
              "      border-bottom-color: var(--fill-color);\n",
              "      border-left-color: var(--fill-color);\n",
              "    }\n",
              "    20% {\n",
              "      border-color: transparent;\n",
              "      border-left-color: var(--fill-color);\n",
              "      border-top-color: var(--fill-color);\n",
              "    }\n",
              "    30% {\n",
              "      border-color: transparent;\n",
              "      border-left-color: var(--fill-color);\n",
              "      border-top-color: var(--fill-color);\n",
              "      border-right-color: var(--fill-color);\n",
              "    }\n",
              "    40% {\n",
              "      border-color: transparent;\n",
              "      border-right-color: var(--fill-color);\n",
              "      border-top-color: var(--fill-color);\n",
              "    }\n",
              "    60% {\n",
              "      border-color: transparent;\n",
              "      border-right-color: var(--fill-color);\n",
              "    }\n",
              "    80% {\n",
              "      border-color: transparent;\n",
              "      border-right-color: var(--fill-color);\n",
              "      border-bottom-color: var(--fill-color);\n",
              "    }\n",
              "    90% {\n",
              "      border-color: transparent;\n",
              "      border-bottom-color: var(--fill-color);\n",
              "    }\n",
              "  }\n",
              "</style>\n",
              "\n",
              "  <script>\n",
              "    async function quickchart(key) {\n",
              "      const quickchartButtonEl =\n",
              "        document.querySelector('#' + key + ' button');\n",
              "      quickchartButtonEl.disabled = true;  // To prevent multiple clicks.\n",
              "      quickchartButtonEl.classList.add('colab-df-spinner');\n",
              "      try {\n",
              "        const charts = await google.colab.kernel.invokeFunction(\n",
              "            'suggestCharts', [key], {});\n",
              "      } catch (error) {\n",
              "        console.error('Error during call to suggestCharts:', error);\n",
              "      }\n",
              "      quickchartButtonEl.classList.remove('colab-df-spinner');\n",
              "      quickchartButtonEl.classList.add('colab-df-quickchart-complete');\n",
              "    }\n",
              "    (() => {\n",
              "      let quickchartButtonEl =\n",
              "        document.querySelector('#df-cc143d8c-4995-42a4-8dec-8bf49857a227 button');\n",
              "      quickchartButtonEl.style.display =\n",
              "        google.colab.kernel.accessAllowed ? 'block' : 'none';\n",
              "    })();\n",
              "  </script>\n",
              "</div>\n",
              "\n",
              "    </div>\n",
              "  </div>\n"
            ],
            "application/vnd.google.colaboratory.intrinsic+json": {
              "type": "dataframe",
              "summary": "{\n  \"name\": \"turismo_df\",\n  \"rows\": 10,\n  \"fields\": [\n    {\n      \"column\": \"ANO\",\n      \"properties\": {\n        \"dtype\": \"number\",\n        \"std\": 0,\n        \"min\": 2024,\n        \"max\": 2024,\n        \"num_unique_values\": 1,\n        \"samples\": [\n          2024\n        ],\n        \"semantic_type\": \"\",\n        \"description\": \"\"\n      }\n    }\n  ]\n}"
            }
          },
          "metadata": {},
          "execution_count": 34
        }
      ]
    },
    {
      "cell_type": "code",
      "source": [
        "turismo_df['HABITACIONES'].describe()"
      ],
      "metadata": {
        "colab": {
          "base_uri": "https://localhost:8080/",
          "height": 335
        },
        "id": "wp5J4lG28LuN",
        "outputId": "30c29605-b086-4b8c-b43a-69616be2084c"
      },
      "execution_count": 35,
      "outputs": [
        {
          "output_type": "execute_result",
          "data": {
            "text/plain": [
              "count    2404.000000\n",
              "mean        7.895591\n",
              "std        12.967689\n",
              "min         0.000000\n",
              "25%         0.000000\n",
              "50%         3.000000\n",
              "75%        11.000000\n",
              "max       300.000000\n",
              "Name: HABITACIONES, dtype: float64"
            ],
            "text/html": [
              "<div>\n",
              "<style scoped>\n",
              "    .dataframe tbody tr th:only-of-type {\n",
              "        vertical-align: middle;\n",
              "    }\n",
              "\n",
              "    .dataframe tbody tr th {\n",
              "        vertical-align: top;\n",
              "    }\n",
              "\n",
              "    .dataframe thead th {\n",
              "        text-align: right;\n",
              "    }\n",
              "</style>\n",
              "<table border=\"1\" class=\"dataframe\">\n",
              "  <thead>\n",
              "    <tr style=\"text-align: right;\">\n",
              "      <th></th>\n",
              "      <th>HABITACIONES</th>\n",
              "    </tr>\n",
              "  </thead>\n",
              "  <tbody>\n",
              "    <tr>\n",
              "      <th>count</th>\n",
              "      <td>2404.000000</td>\n",
              "    </tr>\n",
              "    <tr>\n",
              "      <th>mean</th>\n",
              "      <td>7.895591</td>\n",
              "    </tr>\n",
              "    <tr>\n",
              "      <th>std</th>\n",
              "      <td>12.967689</td>\n",
              "    </tr>\n",
              "    <tr>\n",
              "      <th>min</th>\n",
              "      <td>0.000000</td>\n",
              "    </tr>\n",
              "    <tr>\n",
              "      <th>25%</th>\n",
              "      <td>0.000000</td>\n",
              "    </tr>\n",
              "    <tr>\n",
              "      <th>50%</th>\n",
              "      <td>3.000000</td>\n",
              "    </tr>\n",
              "    <tr>\n",
              "      <th>75%</th>\n",
              "      <td>11.000000</td>\n",
              "    </tr>\n",
              "    <tr>\n",
              "      <th>max</th>\n",
              "      <td>300.000000</td>\n",
              "    </tr>\n",
              "  </tbody>\n",
              "</table>\n",
              "</div><br><label><b>dtype:</b> float64</label>"
            ]
          },
          "metadata": {},
          "execution_count": 35
        }
      ]
    },
    {
      "cell_type": "code",
      "source": [
        "turismo_df['HABITACIONES'].max()"
      ],
      "metadata": {
        "colab": {
          "base_uri": "https://localhost:8080/"
        },
        "id": "cafdnONM8Lp5",
        "outputId": "99038ea9-2a7e-472c-dac6-fc25f4048ca4"
      },
      "execution_count": 36,
      "outputs": [
        {
          "output_type": "execute_result",
          "data": {
            "text/plain": [
              "300"
            ]
          },
          "metadata": {},
          "execution_count": 36
        }
      ]
    },
    {
      "cell_type": "code",
      "source": [
        "turismo_df['HABITACIONES'].sum()"
      ],
      "metadata": {
        "colab": {
          "base_uri": "https://localhost:8080/"
        },
        "id": "FCrMlpEA8Ldq",
        "outputId": "2304fab2-8756-4bd9-9c3f-6480ea293875"
      },
      "execution_count": 37,
      "outputs": [
        {
          "output_type": "execute_result",
          "data": {
            "text/plain": [
              "18981"
            ]
          },
          "metadata": {},
          "execution_count": 37
        }
      ]
    },
    {
      "cell_type": "code",
      "source": [
        "numero_centros_por_departamento = df_sin_duplicados.groupby('MUNICIPIO')['HABITACIONES'].count()\n",
        "\n",
        "numero_centros_ordenados = numero_centros_por_departamento.sort_values(ascending=False)\n",
        "\n",
        "print(numero_centros_ordenados)"
      ],
      "metadata": {
        "colab": {
          "base_uri": "https://localhost:8080/"
        },
        "id": "o55dhwtJld79",
        "outputId": "733c0118-e170-498c-ae61-3be7a94e4b14"
      },
      "execution_count": 38,
      "outputs": [
        {
          "output_type": "stream",
          "name": "stdout",
          "text": [
            "MUNICIPIO\n",
            "VILLAVICENCIO                 1000\n",
            "ACACIAS                        229\n",
            "PUERTO GAITAN (MANACACIAS)     171\n",
            "RESTREPO                       170\n",
            "LA MACARENA                    144\n",
            "GRANADA (META)                  84\n",
            "PUERTO LOPEZ                    80\n",
            "MESETAS                         74\n",
            "GUAMAL                          73\n",
            "CUMARAL                         58\n",
            "SAN JUAN DE ARAMA               46\n",
            "SAN MARTIN                      40\n",
            "CUBARRAL                        37\n",
            "LEJANIAS                        36\n",
            "VISTA HERMOSA                   25\n",
            "BARRANCA DE UPIA                23\n",
            "LA URIBE                        20\n",
            "CASTILLA LA NUEVA               20\n",
            "EL DORADO                       14\n",
            "CABUYARO                        11\n",
            "PUERTO CONCORDIA                10\n",
            "FUENTE DE ORO                    8\n",
            "EL CASTILLO                      7\n",
            "PUERTO RICO                      6\n",
            "SAN CARLOS GUAROA                6\n",
            "MAPIRIPAN                        6\n",
            "PUERTO LLERAS                    3\n",
            "SAN JUANITO                      3\n",
            "Name: HABITACIONES, dtype: int64\n"
          ]
        }
      ]
    },
    {
      "cell_type": "code",
      "source": [
        "plt.figure(figsize=(10, 8))\n",
        "numero_centros_ordenados.plot(kind='bar', color='skyblue')\n",
        "plt.title('ALOJAMIENTO POR MUNICIPIO EN EL META 2024')\n",
        "plt.xlabel('MUNICIPIO')\n",
        "plt.ylabel('HABITACIONES')\n",
        "plt.xticks(rotation=90)\n",
        "plt.tight_layout()\n",
        "\n",
        "plt.show()"
      ],
      "metadata": {
        "colab": {
          "base_uri": "https://localhost:8080/",
          "height": 807
        },
        "id": "oyFlMYkroLRu",
        "outputId": "3d789f62-bac0-4a30-d071-3ebf74666860"
      },
      "execution_count": 39,
      "outputs": [
        {
          "output_type": "display_data",
          "data": {
            "text/plain": [
              "<Figure size 1000x800 with 1 Axes>"
            ],
            "image/png": "[encoded data removed]"
          },
          "metadata": {}
        }
      ]
    },
    {
      "cell_type": "markdown",
      "source": [
        "**Conclusiones Generales**\n",
        "\n",
        "Como podemos observar el municipio de Villavicencio el municipio con más reservaciones de habitaciones en el Meta llegando a 1.000 habitaciones y con una participación del 41.6%, esto se debe a que muchos factores como la cercanía de Bogotá que es entre unos 127.1 Km, esto equivale a 3 Horas y 25 minutos, otro factor es su clima que es promedio de  24 °C y 30 °C, también Villavicencio es un centro de conexiones a varias rutas para los diferentes municipios del Meta, tiene un aeropuerto propio como es Aeropuerto Vanguardia, muchas de las escuelas Aeronáuticas más importantes están ubicadas en esta ciudad, la gastronomía es indudablemente algo fundamental para su turismo como la famosa mamona, la gallina criolla, el sancocho de gallina, el pan de arroz y el pescado asado, en segundo lugar esta el municipio de Acacias es reconocida por el Festival del Retorno, esta ubicado a unos 45 minutos de Villavicencio tiene al año varias festividades que atrapa a los turistas, su gastronomía y su gente amable hace que este sea uno de los sitios turísticos más frecuentados en el Meta."
      ],
      "metadata": {
        "id": "jy51xd2EwzVq"
      }
    },
    {
      "cell_type": "code",
      "source": [
        "turismo_df[\"MES\"].value_counts()"
      ],
      "metadata": {
        "colab": {
          "base_uri": "https://localhost:8080/",
          "height": 272
        },
        "id": "Xek_n5vpzS9L",
        "outputId": "483217bf-73ea-479e-e574-ec8071c3aaab"
      },
      "execution_count": 40,
      "outputs": [
        {
          "output_type": "execute_result",
          "data": {
            "text/plain": [
              "MES\n",
              "3    879\n",
              "2    573\n",
              "4    508\n",
              "1    403\n",
              "5     41\n",
              "Name: count, dtype: int64"
            ],
            "text/html": [
              "<div>\n",
              "<style scoped>\n",
              "    .dataframe tbody tr th:only-of-type {\n",
              "        vertical-align: middle;\n",
              "    }\n",
              "\n",
              "    .dataframe tbody tr th {\n",
              "        vertical-align: top;\n",
              "    }\n",
              "\n",
              "    .dataframe thead th {\n",
              "        text-align: right;\n",
              "    }\n",
              "</style>\n",
              "<table border=\"1\" class=\"dataframe\">\n",
              "  <thead>\n",
              "    <tr style=\"text-align: right;\">\n",
              "      <th></th>\n",
              "      <th>count</th>\n",
              "    </tr>\n",
              "    <tr>\n",
              "      <th>MES</th>\n",
              "      <th></th>\n",
              "    </tr>\n",
              "  </thead>\n",
              "  <tbody>\n",
              "    <tr>\n",
              "      <th>3</th>\n",
              "      <td>879</td>\n",
              "    </tr>\n",
              "    <tr>\n",
              "      <th>2</th>\n",
              "      <td>573</td>\n",
              "    </tr>\n",
              "    <tr>\n",
              "      <th>4</th>\n",
              "      <td>508</td>\n",
              "    </tr>\n",
              "    <tr>\n",
              "      <th>1</th>\n",
              "      <td>403</td>\n",
              "    </tr>\n",
              "    <tr>\n",
              "      <th>5</th>\n",
              "      <td>41</td>\n",
              "    </tr>\n",
              "  </tbody>\n",
              "</table>\n",
              "</div><br><label><b>dtype:</b> int64</label>"
            ]
          },
          "metadata": {},
          "execution_count": 40
        }
      ]
    },
    {
      "cell_type": "markdown",
      "source": [],
      "metadata": {
        "id": "lE3RdLVyxgUk"
      }
    },
    {
      "cell_type": "code",
      "source": [
        "column_rename_map = {\n",
        "    \"RAZON_SOCIAL_ESTABLECIMIENTO\": \"EMPRESA\"\n",
        "}"
      ],
      "metadata": {
        "id": "Bbb0-r6C6ZEy"
      },
      "execution_count": 41,
      "outputs": []
    },
    {
      "cell_type": "code",
      "source": [
        "turismo_df_renombrado = turismo_df.rename(columns=column_rename_map)"
      ],
      "metadata": {
        "id": "uRfi09pa8z5-"
      },
      "execution_count": 42,
      "outputs": []
    },
    {
      "cell_type": "code",
      "source": [
        "turismo_df_renombrado.head()"
      ],
      "metadata": {
        "colab": {
          "base_uri": "https://localhost:8080/",
          "height": 345
        },
        "id": "0T-dLBoH82ld",
        "outputId": "198552ac-0617-4d33-fc29-944764a4ea00"
      },
      "execution_count": 43,
      "outputs": [
        {
          "output_type": "execute_result",
          "data": {
            "text/plain": [
              "    ANO  MES  CODIGO_RNT  COD_MUN  COD_DPTO ESTADO_RNT  \\\n",
              "0  2024    4         789    50001        50     ACTIVO   \n",
              "1  2024    3        1008    50001        50     ACTIVO   \n",
              "2  2024    4        4525    50001        50     ACTIVO   \n",
              "3  2024    3        5345    50001        50     ACTIVO   \n",
              "4  2024    3        5377    50001        50     ACTIVO   \n",
              "\n",
              "                             EMPRESA DEPARTAMENTO      MUNICIPIO  \\\n",
              "0                         PROTURISMO         META  VILLAVICENCIO   \n",
              "1          HOTEL VILLAVICENCIO PLAZA         META  VILLAVICENCIO   \n",
              "2                     HOTEL DON LOLO         META  VILLAVICENCIO   \n",
              "3  HOTEL EL ALCARAVAN DE COLSUBSIDIO         META  VILLAVICENCIO   \n",
              "4                   HOTEL NAPOLITANO         META  VILLAVICENCIO   \n",
              "\n",
              "                                   CATEGORIA                   SUB_CATEGORIA  \\\n",
              "0                         AGENCIAS DE VIAJES  AGENCIA DE VIAJES Y DE TURISMO   \n",
              "1  ESTABLECIMIENTOS DE ALOJAMIENTO TURÍSTICO                           HOTEL   \n",
              "2  ESTABLECIMIENTOS DE ALOJAMIENTO TURÍSTICO                           HOTEL   \n",
              "3  ESTABLECIMIENTOS DE ALOJAMIENTO TURÍSTICO                           HOTEL   \n",
              "4  ESTABLECIMIENTOS DE ALOJAMIENTO TURÍSTICO                           HOTEL   \n",
              "\n",
              "   NUM_EMP  HABITACIONES  CAMAS  \n",
              "0        3             0      0  \n",
              "1        0            65     77  \n",
              "2       24            57    138  \n",
              "3        0            63    252  \n",
              "4        0            65    182  "
            ],
            "text/html": [
              "\n",
              "  <div id=\"df-f903b5c5-c835-48e1-ba34-135f7540a80c\" class=\"colab-df-container\">\n",
              "    <div>\n",
              "<style scoped>\n",
              "    .dataframe tbody tr th:only-of-type {\n",
              "        vertical-align: middle;\n",
              "    }\n",
              "\n",
              "    .dataframe tbody tr th {\n",
              "        vertical-align: top;\n",
              "    }\n",
              "\n",
              "    .dataframe thead th {\n",
              "        text-align: right;\n",
              "    }\n",
              "</style>\n",
              "<table border=\"1\" class=\"dataframe\">\n",
              "  <thead>\n",
              "    <tr style=\"text-align: right;\">\n",
              "      <th></th>\n",
              "      <th>ANO</th>\n",
              "      <th>MES</th>\n",
              "      <th>CODIGO_RNT</th>\n",
              "      <th>COD_MUN</th>\n",
              "      <th>COD_DPTO</th>\n",
              "      <th>ESTADO_RNT</th>\n",
              "      <th>EMPRESA</th>\n",
              "      <th>DEPARTAMENTO</th>\n",
              "      <th>MUNICIPIO</th>\n",
              "      <th>CATEGORIA</th>\n",
              "      <th>SUB_CATEGORIA</th>\n",
              "      <th>NUM_EMP</th>\n",
              "      <th>HABITACIONES</th>\n",
              "      <th>CAMAS</th>\n",
              "    </tr>\n",
              "  </thead>\n",
              "  <tbody>\n",
              "    <tr>\n",
              "      <th>0</th>\n",
              "      <td>2024</td>\n",
              "      <td>4</td>\n",
              "      <td>789</td>\n",
              "      <td>50001</td>\n",
              "      <td>50</td>\n",
              "      <td>ACTIVO</td>\n",
              "      <td>PROTURISMO</td>\n",
              "      <td>META</td>\n",
              "      <td>VILLAVICENCIO</td>\n",
              "      <td>AGENCIAS DE VIAJES</td>\n",
              "      <td>AGENCIA DE VIAJES Y DE TURISMO</td>\n",
              "      <td>3</td>\n",
              "      <td>0</td>\n",
              "      <td>0</td>\n",
              "    </tr>\n",
              "    <tr>\n",
              "      <th>1</th>\n",
              "      <td>2024</td>\n",
              "      <td>3</td>\n",
              "      <td>1008</td>\n",
              "      <td>50001</td>\n",
              "      <td>50</td>\n",
              "      <td>ACTIVO</td>\n",
              "      <td>HOTEL VILLAVICENCIO PLAZA</td>\n",
              "      <td>META</td>\n",
              "      <td>VILLAVICENCIO</td>\n",
              "      <td>ESTABLECIMIENTOS DE ALOJAMIENTO TURÍSTICO</td>\n",
              "      <td>HOTEL</td>\n",
              "      <td>0</td>\n",
              "      <td>65</td>\n",
              "      <td>77</td>\n",
              "    </tr>\n",
              "    <tr>\n",
              "      <th>2</th>\n",
              "      <td>2024</td>\n",
              "      <td>4</td>\n",
              "      <td>4525</td>\n",
              "      <td>50001</td>\n",
              "      <td>50</td>\n",
              "      <td>ACTIVO</td>\n",
              "      <td>HOTEL DON LOLO</td>\n",
              "      <td>META</td>\n",
              "      <td>VILLAVICENCIO</td>\n",
              "      <td>ESTABLECIMIENTOS DE ALOJAMIENTO TURÍSTICO</td>\n",
              "      <td>HOTEL</td>\n",
              "      <td>24</td>\n",
              "      <td>57</td>\n",
              "      <td>138</td>\n",
              "    </tr>\n",
              "    <tr>\n",
              "      <th>3</th>\n",
              "      <td>2024</td>\n",
              "      <td>3</td>\n",
              "      <td>5345</td>\n",
              "      <td>50001</td>\n",
              "      <td>50</td>\n",
              "      <td>ACTIVO</td>\n",
              "      <td>HOTEL EL ALCARAVAN DE COLSUBSIDIO</td>\n",
              "      <td>META</td>\n",
              "      <td>VILLAVICENCIO</td>\n",
              "      <td>ESTABLECIMIENTOS DE ALOJAMIENTO TURÍSTICO</td>\n",
              "      <td>HOTEL</td>\n",
              "      <td>0</td>\n",
              "      <td>63</td>\n",
              "      <td>252</td>\n",
              "    </tr>\n",
              "    <tr>\n",
              "      <th>4</th>\n",
              "      <td>2024</td>\n",
              "      <td>3</td>\n",
              "      <td>5377</td>\n",
              "      <td>50001</td>\n",
              "      <td>50</td>\n",
              "      <td>ACTIVO</td>\n",
              "      <td>HOTEL NAPOLITANO</td>\n",
              "      <td>META</td>\n",
              "      <td>VILLAVICENCIO</td>\n",
              "      <td>ESTABLECIMIENTOS DE ALOJAMIENTO TURÍSTICO</td>\n",
              "      <td>HOTEL</td>\n",
              "      <td>0</td>\n",
              "      <td>65</td>\n",
              "      <td>182</td>\n",
              "    </tr>\n",
              "  </tbody>\n",
              "</table>\n",
              "</div>\n",
              "    <div class=\"colab-df-buttons\">\n",
              "\n",
              "  <div class=\"colab-df-container\">\n",
              "    <button class=\"colab-df-convert\" onclick=\"convertToInteractive('df-f903b5c5-c835-48e1-ba34-135f7540a80c')\"\n",
              "            title=\"Convert this dataframe to an interactive table.\"\n",
              "            style=\"display:none;\">\n",
              "\n",
              "  <svg xmlns=\"http://www.w3.org/2000/svg\" height=\"24px\" viewBox=\"0 -960 960 960\">\n",
              "    <path d=\"M120-120v-720h720v720H120Zm60-500h600v-160H180v160Zm220 220h160v-160H400v160Zm0 220h160v-160H400v160ZM180-400h160v-160H180v160Zm440 0h160v-160H620v160ZM180-180h160v-160H180v160Zm440 0h160v-160H620v160Z\"/>\n",
              "  </svg>\n",
              "    </button>\n",
              "\n",
              "  <style>\n",
              "    .colab-df-container {\n",
              "      display:flex;\n",
              "      gap: 12px;\n",
              "    }\n",
              "\n",
              "    .colab-df-convert {\n",
              "      background-color: #E8F0FE;\n",
              "      border: none;\n",
              "      border-radius: 50%;\n",
              "      cursor: pointer;\n",
              "      display: none;\n",
              "      fill: #1967D2;\n",
              "      height: 32px;\n",
              "      padding: 0 0 0 0;\n",
              "      width: 32px;\n",
              "    }\n",
              "\n",
              "    .colab-df-convert:hover {\n",
              "      background-color: #E2EBFA;\n",
              "      box-shadow: 0px 1px 2px rgba(60, 64, 67, 0.3), 0px 1px 3px 1px rgba(60, 64, 67, 0.15);\n",
              "      fill: #174EA6;\n",
              "    }\n",
              "\n",
              "    .colab-df-buttons div {\n",
              "      margin-bottom: 4px;\n",
              "    }\n",
              "\n",
              "    [theme=dark] .colab-df-convert {\n",
              "      background-color: #3B4455;\n",
              "      fill: #D2E3FC;\n",
              "    }\n",
              "\n",
              "    [theme=dark] .colab-df-convert:hover {\n",
              "      background-color: #434B5C;\n",
              "      box-shadow: 0px 1px 3px 1px rgba(0, 0, 0, 0.15);\n",
              "      filter: drop-shadow(0px 1px 2px rgba(0, 0, 0, 0.3));\n",
              "      fill: #FFFFFF;\n",
              "    }\n",
              "  </style>\n",
              "\n",
              "    <script>\n",
              "      const buttonEl =\n",
              "        document.querySelector('#df-f903b5c5-c835-48e1-ba34-135f7540a80c button.colab-df-convert');\n",
              "      buttonEl.style.display =\n",
              "        google.colab.kernel.accessAllowed ? 'block' : 'none';\n",
              "\n",
              "      async function convertToInteractive(key) {\n",
              "        const element = document.querySelector('#df-f903b5c5-c835-48e1-ba34-135f7540a80c');\n",
              "        const dataTable =\n",
              "          await google.colab.kernel.invokeFunction('convertToInteractive',\n",
              "                                                    [key], {});\n",
              "        if (!dataTable) return;\n",
              "\n",
              "        const docLinkHtml = 'Like what you see? Visit the ' +\n",
              "          '<a target=\"_blank\" href=https://colab.research.google.com/notebooks/data_table.ipynb>data table notebook</a>'\n",
              "          + ' to learn more about interactive tables.';\n",
              "        element.innerHTML = '';\n",
              "        dataTable['output_type'] = 'display_data';\n",
              "        await google.colab.output.renderOutput(dataTable, element);\n",
              "        const docLink = document.createElement('div');\n",
              "        docLink.innerHTML = docLinkHtml;\n",
              "        element.appendChild(docLink);\n",
              "      }\n",
              "    </script>\n",
              "  </div>\n",
              "\n",
              "\n",
              "<div id=\"df-d459fd31-1ac3-440f-90e5-7897d5089a23\">\n",
              "  <button class=\"colab-df-quickchart\" onclick=\"quickchart('df-d459fd31-1ac3-440f-90e5-7897d5089a23')\"\n",
              "            title=\"Suggest charts\"\n",
              "            style=\"display:none;\">\n",
              "\n",
              "<svg xmlns=\"http://www.w3.org/2000/svg\" height=\"24px\"viewBox=\"0 0 24 24\"\n",
              "     width=\"24px\">\n",
              "    <g>\n",
              "        <path d=\"M19 3H5c-1.1 0-2 .9-2 2v14c0 1.1.9 2 2 2h14c1.1 0 2-.9 2-2V5c0-1.1-.9-2-2-2zM9 17H7v-7h2v7zm4 0h-2V7h2v10zm4 0h-2v-4h2v4z\"/>\n",
              "    </g>\n",
              "</svg>\n",
              "  </button>\n",
              "\n",
              "<style>\n",
              "  .colab-df-quickchart {\n",
              "      --bg-color: #E8F0FE;\n",
              "      --fill-color: #1967D2;\n",
              "      --hover-bg-color: #E2EBFA;\n",
              "      --hover-fill-color: #174EA6;\n",
              "      --disabled-fill-color: #AAA;\n",
              "      --disabled-bg-color: #DDD;\n",
              "  }\n",
              "\n",
              "  [theme=dark] .colab-df-quickchart {\n",
              "      --bg-color: #3B4455;\n",
              "      --fill-color: #D2E3FC;\n",
              "      --hover-bg-color: #434B5C;\n",
              "      --hover-fill-color: #FFFFFF;\n",
              "      --disabled-bg-color: #3B4455;\n",
              "      --disabled-fill-color: #666;\n",
              "  }\n",
              "\n",
              "  .colab-df-quickchart {\n",
              "    background-color: var(--bg-color);\n",
              "    border: none;\n",
              "    border-radius: 50%;\n",
              "    cursor: pointer;\n",
              "    display: none;\n",
              "    fill: var(--fill-color);\n",
              "    height: 32px;\n",
              "    padding: 0;\n",
              "    width: 32px;\n",
              "  }\n",
              "\n",
              "  .colab-df-quickchart:hover {\n",
              "    background-color: var(--hover-bg-color);\n",
              "    box-shadow: 0 1px 2px rgba(60, 64, 67, 0.3), 0 1px 3px 1px rgba(60, 64, 67, 0.15);\n",
              "    fill: var(--button-hover-fill-color);\n",
              "  }\n",
              "\n",
              "  .colab-df-quickchart-complete:disabled,\n",
              "  .colab-df-quickchart-complete:disabled:hover {\n",
              "    background-color: var(--disabled-bg-color);\n",
              "    fill: var(--disabled-fill-color);\n",
              "    box-shadow: none;\n",
              "  }\n",
              "\n",
              "  .colab-df-spinner {\n",
              "    border: 2px solid var(--fill-color);\n",
              "    border-color: transparent;\n",
              "    border-bottom-color: var(--fill-color);\n",
              "    animation:\n",
              "      spin 1s steps(1) infinite;\n",
              "  }\n",
              "\n",
              "  @keyframes spin {\n",
              "    0% {\n",
              "      border-color: transparent;\n",
              "      border-bottom-color: var(--fill-color);\n",
              "      border-left-color: var(--fill-color);\n",
              "    }\n",
              "    20% {\n",
              "      border-color: transparent;\n",
              "      border-left-color: var(--fill-color);\n",
              "      border-top-color: var(--fill-color);\n",
              "    }\n",
              "    30% {\n",
              "      border-color: transparent;\n",
              "      border-left-color: var(--fill-color);\n",
              "      border-top-color: var(--fill-color);\n",
              "      border-right-color: var(--fill-color);\n",
              "    }\n",
              "    40% {\n",
              "      border-color: transparent;\n",
              "      border-right-color: var(--fill-color);\n",
              "      border-top-color: var(--fill-color);\n",
              "    }\n",
              "    60% {\n",
              "      border-color: transparent;\n",
              "      border-right-color: var(--fill-color);\n",
              "    }\n",
              "    80% {\n",
              "      border-color: transparent;\n",
              "      border-right-color: var(--fill-color);\n",
              "      border-bottom-color: var(--fill-color);\n",
              "    }\n",
              "    90% {\n",
              "      border-color: transparent;\n",
              "      border-bottom-color: var(--fill-color);\n",
              "    }\n",
              "  }\n",
              "</style>\n",
              "\n",
              "  <script>\n",
              "    async function quickchart(key) {\n",
              "      const quickchartButtonEl =\n",
              "        document.querySelector('#' + key + ' button');\n",
              "      quickchartButtonEl.disabled = true;  // To prevent multiple clicks.\n",
              "      quickchartButtonEl.classList.add('colab-df-spinner');\n",
              "      try {\n",
              "        const charts = await google.colab.kernel.invokeFunction(\n",
              "            'suggestCharts', [key], {});\n",
              "      } catch (error) {\n",
              "        console.error('Error during call to suggestCharts:', error);\n",
              "      }\n",
              "      quickchartButtonEl.classList.remove('colab-df-spinner');\n",
              "      quickchartButtonEl.classList.add('colab-df-quickchart-complete');\n",
              "    }\n",
              "    (() => {\n",
              "      let quickchartButtonEl =\n",
              "        document.querySelector('#df-d459fd31-1ac3-440f-90e5-7897d5089a23 button');\n",
              "      quickchartButtonEl.style.display =\n",
              "        google.colab.kernel.accessAllowed ? 'block' : 'none';\n",
              "    })();\n",
              "  </script>\n",
              "</div>\n",
              "\n",
              "    </div>\n",
              "  </div>\n"
            ],
            "application/vnd.google.colaboratory.intrinsic+json": {
              "type": "dataframe",
              "variable_name": "turismo_df_renombrado",
              "summary": "{\n  \"name\": \"turismo_df_renombrado\",\n  \"rows\": 2404,\n  \"fields\": [\n    {\n      \"column\": \"ANO\",\n      \"properties\": {\n        \"dtype\": \"number\",\n        \"std\": 0,\n        \"min\": 2024,\n        \"max\": 2024,\n        \"num_unique_values\": 1,\n        \"samples\": [\n          2024\n        ],\n        \"semantic_type\": \"\",\n        \"description\": \"\"\n      }\n    },\n    {\n      \"column\": \"MES\",\n      \"properties\": {\n        \"dtype\": \"number\",\n        \"std\": 1,\n        \"min\": 1,\n        \"max\": 5,\n        \"num_unique_values\": 5,\n        \"samples\": [\n          3\n        ],\n        \"semantic_type\": \"\",\n        \"description\": \"\"\n      }\n    },\n    {\n      \"column\": \"CODIGO_RNT\",\n      \"properties\": {\n        \"dtype\": \"number\",\n        \"std\": 60209,\n        \"min\": 789,\n        \"max\": 209643,\n        \"num_unique_values\": 2404,\n        \"samples\": [\n          36391\n        ],\n        \"semantic_type\": \"\",\n        \"description\": \"\"\n      }\n    },\n    {\n      \"column\": \"COD_MUN\",\n      \"properties\": {\n        \"dtype\": \"number\",\n        \"std\": 249,\n        \"min\": 50001,\n        \"max\": 50711,\n        \"num_unique_values\": 28,\n        \"samples\": [\n          50110\n        ],\n        \"semantic_type\": \"\",\n        \"description\": \"\"\n      }\n    },\n    {\n      \"column\": \"COD_DPTO\",\n      \"properties\": {\n        \"dtype\": \"number\",\n        \"std\": 0,\n        \"min\": 50,\n        \"max\": 50,\n        \"num_unique_values\": 1,\n        \"samples\": [\n          50\n        ],\n        \"semantic_type\": \"\",\n        \"description\": \"\"\n      }\n    },\n    {\n      \"column\": \"ESTADO_RNT\",\n      \"properties\": {\n        \"dtype\": \"category\",\n        \"num_unique_values\": 1,\n        \"samples\": [\n          \"ACTIVO\"\n        ],\n        \"semantic_type\": \"\",\n        \"description\": \"\"\n      }\n    },\n    {\n      \"column\": \"EMPRESA\",\n      \"properties\": {\n        \"dtype\": \"string\",\n        \"num_unique_values\": 2310,\n        \"samples\": [\n          \"MONTEALTO CAMPESTRE\"\n        ],\n        \"semantic_type\": \"\",\n        \"description\": \"\"\n      }\n    },\n    {\n      \"column\": \"DEPARTAMENTO\",\n      \"properties\": {\n        \"dtype\": \"category\",\n        \"num_unique_values\": 1,\n        \"samples\": [\n          \"META\"\n        ],\n        \"semantic_type\": \"\",\n        \"description\": \"\"\n      }\n    },\n    {\n      \"column\": \"MUNICIPIO\",\n      \"properties\": {\n        \"dtype\": \"category\",\n        \"num_unique_values\": 28,\n        \"samples\": [\n          \"BARRANCA DE UPIA\"\n        ],\n        \"semantic_type\": \"\",\n        \"description\": \"\"\n      }\n    },\n    {\n      \"column\": \"CATEGORIA\",\n      \"properties\": {\n        \"dtype\": \"category\",\n        \"num_unique_values\": 15,\n        \"samples\": [\n          \"ESTABLECIMIENTOS DE GASTRONOM\\u00cdA\"\n        ],\n        \"semantic_type\": \"\",\n        \"description\": \"\"\n      }\n    },\n    {\n      \"column\": \"SUB_CATEGORIA\",\n      \"properties\": {\n        \"dtype\": \"category\",\n        \"num_unique_values\": 30,\n        \"samples\": [\n          \"ALBERGUE\"\n        ],\n        \"semantic_type\": \"\",\n        \"description\": \"\"\n      }\n    },\n    {\n      \"column\": \"NUM_EMP\",\n      \"properties\": {\n        \"dtype\": \"number\",\n        \"std\": 611,\n        \"min\": 0,\n        \"max\": 30000,\n        \"num_unique_values\": 29,\n        \"samples\": [\n          17\n        ],\n        \"semantic_type\": \"\",\n        \"description\": \"\"\n      }\n    },\n    {\n      \"column\": \"HABITACIONES\",\n      \"properties\": {\n        \"dtype\": \"number\",\n        \"std\": 12,\n        \"min\": 0,\n        \"max\": 300,\n        \"num_unique_values\": 68,\n        \"samples\": [\n          48\n        ],\n        \"semantic_type\": \"\",\n        \"description\": \"\"\n      }\n    },\n    {\n      \"column\": \"CAMAS\",\n      \"properties\": {\n        \"dtype\": \"number\",\n        \"std\": 20,\n        \"min\": 0,\n        \"max\": 277,\n        \"num_unique_values\": 101,\n        \"samples\": [\n          41\n        ],\n        \"semantic_type\": \"\",\n        \"description\": \"\"\n      }\n    }\n  ]\n}"
            }
          },
          "metadata": {},
          "execution_count": 43
        }
      ]
    },
    {
      "cell_type": "code",
      "source": [
        "plt.figure(figsize=(10, 8))\n",
        "frecuencia_empresa = turismo_df_renombrado['MES'].value_counts()\n",
        "ax = frecuencia_empresa.plot(kind='bar', color='orange', edgecolor='black')\n",
        "umbral = 20\n",
        "for p in ax.patches:\n",
        "    if p.get_height() > umbral:\n",
        "        ax.annotate(f'{p.get_height()}', (p.get_x() + p.get_width() / 2., p.get_height()),\n",
        "                    ha='center', va='center', xytext=(0, 10), textcoords='offset points', rotation=45)\n",
        "plt.xticks(rotation=45, ha='right')\n",
        "plt.title('FRECUENCIA DE RESERVACIONES POR MES')\n",
        "plt.xlabel('MES')\n",
        "plt.ylabel('Frecuencia')\n",
        "plt.tight_layout()\n",
        "plt.show()"
      ],
      "metadata": {
        "colab": {
          "base_uri": "https://localhost:8080/",
          "height": 807
        },
        "id": "RD3aj8Bk87Jv",
        "outputId": "ebd379cf-afb8-4ed5-d9ec-71bb5bd7bdd4"
      },
      "execution_count": 44,
      "outputs": [
        {
          "output_type": "display_data",
          "data": {
            "text/plain": [
              "<Figure size 1000x800 with 1 Axes>"
            ],
            "image/png": "[encoded data removed]"
          },
          "metadata": {}
        }
      ]
    },
    {
      "cell_type": "markdown",
      "source": [
        "**Conclusiones Generales**\n",
        "\n",
        "En marzo se presento más turistas en el municipio del Meta debido a la semana Santa que se dio el 24 de marzo del 2024, esto tuvo una gran acogida pues en muchos de los municipios se dieron misas, conciertos religiosos con artistas nacionales e internacionales. Todos los años en el mes de marzo, Villavicencio se vuelve sede de uno de los eventos del rodeo más importantes de América, El Concurso Mundial de la Mujer Vaquera. Que reúne a más de 150 deportistas de 10 países, que competirán por ser la mejor exponente de este peligroso deporte.\n",
        "Como podemos visualizar los meses con el mejor clima para visitar los municipios del Meta están en enero, febrero, marzo y abril, el mes menos visitado es el de Mayo porque es un mes de lluvia, en febrero se dan varios festivales como son Festival de Verano 2024 en Puerto Concordia y Festival de Verano, Río y Playa 2023 en Cabuyaro, Festival de Verano 2023 en Puerto Concordia.\n"
      ],
      "metadata": {
        "id": "lIw6-Q1PxhYb"
      }
    },
    {
      "cell_type": "code",
      "source": [],
      "metadata": {
        "id": "LS5GJtMr0ydj"
      },
      "execution_count": null,
      "outputs": []
    }
  ]
}